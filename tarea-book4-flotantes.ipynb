{
 "metadata": {
  "language": "Julia",
  "name": "",
  "signature": "sha256:e0192d680729e87b2b87719f1d7cd9e4ff17bd39617e8138f100d15a59f415cc"
 },
 "nbformat": 3,
 "nbformat_minor": 0,
 "worksheets": [
  {
   "cells": [
    {
     "cell_type": "heading",
     "level": 4,
     "metadata": {},
     "source": [
      "Ejercicio 1 "
     ]
    },
    {
     "cell_type": "markdown",
     "metadata": {},
     "source": [
      "Dados $p$, $e_{min}$ y $e_{max}$, usando el sistema binario, \u00bfde cu\u00e1ntos n\u00fameros normales consiste el conjunto? \u00bfY si se trata de otra base $\\beta$? \u00bfEst\u00e1n uniformemente distribuidos los n\u00fameros normales? \u00bfCu\u00e1l es la distancia entre el 0 y el primer n\u00famero positivo distinto de cero? NOTA Para guiar la respuesta, uno puede jugar con $\\beta=2$, $p=2$, $e_{min}=\u22121$ y $e_{max}=2$, pero la idea es obtener expresiones generales.\n",
      "\n",
      "(Entre par\u00e9ntesis, a estas alturas del partido deben haber escrito funciones que permiten pasar de un entero a una cadena binaria equivalente, y viceversa, y de un n\u00famero de punto flotante en base 10 al equivalente en binario, y viceversa. No s\u00f3lo se trata de que estas funciones est\u00e9n escritas, sino de que nos sean \u00fatiles, o sea, de que den resultados que podemos confiar y usar.)\n"
     ]
    },
    {
     "cell_type": "markdown",
     "metadata": {},
     "source": [
      "Con $\\beta=2$, $p=2$, $e \\in \\{-1,0,1,2\\}=E$\n",
      "\n",
      "\n",
      "$(-1)^{1}1.11 \\times (2^{-1},2^{0},2^{1},2^{2})$, \n",
      "\n",
      "$(-1)^{0}1.11 \\times (2^{-1},2^{0},2^{1},2^{2})$,\n",
      "\n",
      "$(-1)^{1}1.00 \\times (2^{-1},2^{0},2^{1},2^{2})$, \n",
      "\n",
      "$(-1)^{0}1.00 \\times (2^{-1},2^{0},2^{1},2^{2})$, \n",
      "\n",
      "$(-1)^{1}1.10 \\times (2^{-1},2^{0},2^{1},2^{2})$, \n",
      "\n",
      "$(-1)^{0}1.10 \\times (2^{-1},2^{0},2^{1},2^{2})$, \n",
      "\n",
      "$(-1)^{1}1.01 \\times (2^{-1},2^{0},2^{1},2^{2})$, \n",
      "\n",
      "$(-1)^{0}1.01 \\times (2^{-1},2^{0},2^{1},2^{2})$. \n",
      "\n",
      "Hay un total de 32 elementos.\n",
      "\n",
      "El n\u00famero de n\u00fameros normales es el producto de:\n",
      "\n",
      "(signo por escoger) $\\times$ (permutaciones con repetici\u00f3n de los $b_i$) $\\times$ (n\u00famero de elementos del conjunto de exponentes).\n",
      "\n",
      "Es decir, si $E$ es el conjunto de exponentes y #$E$ denota al cardinal de $E$, el n\u00famero de n\u00fameros normales es igual a $2 \\times p^{p} \\times $#$E$.\n",
      "\n",
      "\u00bfEst\u00e1n uniformemente distribuidos los n\u00fameros normales?\n",
      "La respuestas es no, esto lo podemos ver en el siguiente ejemplo:\n",
      "\n",
      "$1.11 \\times 2^{0} - 1.11 \\times 2^{-1}=$ $1.110 - 0.111 = 0.111$\n",
      "\n",
      "$1.11 \\times 2^{1} - 1.11 \\times 2^{0}=$ $11.10 - 1.11 = 01.11$. As\u00ed sucesivamente.\n",
      "\n",
      "\u00bfCu\u00e1l es la distancia entre el cero y el primer n\u00famero positivo distinto de cero?\n",
      "\n",
      "En el ejemplo, el positivo m\u00e1s peque\u00f1o es aqu\u00e9l que tiene $\\sigma=0$, $b_1=b_2=0$, $e=e_{min}=-1$, i.e. $1.00 \\times 2^{-1}=0.10 \\times 2^{0}$ esto es $0.10-0.00=0.10$, en general la distancia entre el cero y el primer positivo es:\n",
      "\n",
      "$(-1)^0 b_1.0_10_2 \\dots 0_p \\times 2^{e_{min}}$, donde $0_i=0 \\ \\forall i=1,\\dots,p$ y $b_1=b_i \\neq 0$ tal que $b_i \\leq b_j$ $\\forall j$.\n",
      "\n",
      "\n",
      "\n",
      "\n"
     ]
    },
    {
     "cell_type": "heading",
     "level": 4,
     "metadata": {},
     "source": [
      "Ejercicio 2"
     ]
    },
    {
     "cell_type": "markdown",
     "metadata": {},
     "source": [
      "\u00bfC\u00f3mo se representa al $x=0$ en el conjunto anterior? \u00bfFunciona la regla del bit escondido para una base $\\beta >3$?\n",
      "\n"
     ]
    },
    {
     "cell_type": "markdown",
     "metadata": {},
     "source": [
      "$(-1)^\\sigma 0.0_10_2 \\dots 0_p \\times 2^0$, donde $0_i=0 \\ \\forall i=1,\\dots,p$.\n",
      "\n",
      "No funciona la regla del bit escondido porque ya no hay s\u00f3lo un $b_i \\neq 0$."
     ]
    },
    {
     "cell_type": "heading",
     "level": 4,
     "metadata": {},
     "source": [
      "Ejercicio 3"
     ]
    },
    {
     "cell_type": "markdown",
     "metadata": {},
     "source": [
      "En el ejemplo de juguete anterior ($\\beta=2$, $p=2$, $e_{min}=\u22121$ y $e_{max}=2$) enumera los posibles n\u00fameros subnormales. \u00bfC\u00f3mo cambia la distancia de 0 al n\u00famero positivo m\u00e1s pr\u00f3ximo? \u00bfEl espaciamiento entre los n\u00fameros subnormales, es uniforme?"
     ]
    },
    {
     "cell_type": "markdown",
     "metadata": {},
     "source": [
      "En el ejemplo, enumera los posibles n\u00fameros subnormales.\n",
      "\n",
      "$(-1)^1 0.01 \\times (2^{-1},2^{0},2^{1},2^{0})$,\n",
      "\n",
      "$(-1)^0 0.01 \\times (2^{-1},2^{0},2^{1},2^{0})$,\n",
      "\n",
      "$(-1)^1 0.10 \\times (2^{-1},2^{0},2^{1},2^{0})$,\n",
      "\n",
      "$(-1)^0 0.10 \\times (2^{-1},2^{0},2^{1},2^{0})$,\n",
      "\n",
      "$(-1)^1 0.11 \\times (2^{-1},2^{0},2^{1},2^{0})$,\n",
      "\n",
      "$(-1)^0 0.11 \\times (2^{-1},2^{0},2^{1},2^{0})$.\n",
      "\n",
      "Hay $2 \\times (p^p -2) \\times $#$E$.\n",
      "\n",
      "\u00bfC\u00f3mo cambia la distancia de 0 al n\u00famero positivo m\u00e1s pr\u00f3ximo?\n",
      "\n",
      "La distancia m\u00ednima ahora es $0.01 \\times 2^{-1}=0.001$, antes era $0.10 \\times 2^{-1}=0.01 \\times 2^{0}$, esto implica que $\\frac{0.01 \\times 2^{-1}}{0.01 \\times 2^{0}}=2^{-1}$, es decir, el intervalo se redujo en un orden de magnitud.\n",
      "\n",
      "\u00bfEl espaciamiento entre los n\u00fameros subnormales es uniforme? No, pasa como en los normales.\n",
      "\n",
      "\n",
      "\n",
      "\n",
      "\n"
     ]
    },
    {
     "cell_type": "heading",
     "level": 4,
     "metadata": {},
     "source": [
      "Ejercicio 4"
     ]
    },
    {
     "cell_type": "markdown",
     "metadata": {},
     "source": [
      "\u00bfQu\u00e9 expresiones definen a $N_{min}$ y $N_{max}$, los n\u00fameros de punto flotante (positivos) m\u00ednimo y m\u00e1ximo? Obt\u00e9n los resultados para los n\u00fameros normales y los subnormales."
     ]
    },
    {
     "cell_type": "markdown",
     "metadata": {},
     "source": [
      "Normales:\n",
      "\n",
      "$N_{min}=(-1)^1 b_{max}.b_{max}b_{max}\\dots b_{max} \\times 2^{e_{max}}$ ($b_{max}$ aparece p veces),\n",
      "\n",
      "$N_{max}=(-1)^0 b_{max}.b_{max}b_{max}\\dots b_{max} \\times 2^{e_{max}}$ (\" \").\n",
      "\n",
      "Subnormales:\n",
      "\n",
      "$N_{min}=(-1)^1 b_{max}.b_{max}b_{max}\\dots b_{max} \\times 2^{e_{max}}$ (\" \"),\n",
      "\n",
      "$N_{max}=(-1)^0 b_{max}.b_{max}b_{max}\\dots b_{max} \\times 2^{e_{max}}$ (\" \").\n",
      "\n",
      "\n",
      "\n"
     ]
    },
    {
     "cell_type": "heading",
     "level": 4,
     "metadata": {},
     "source": [
      "Ejercicio 5"
     ]
    },
    {
     "cell_type": "markdown",
     "metadata": {},
     "source": [
      "Usando bits y un poco de imaginaci\u00f3n, cu\u00e1les son las reglas para representar\n",
      "\n",
      "   x=NaN\n",
      "   \n",
      "   x=Inf\n",
      "\n",
      "   un n\u00famero x>0 normal\n",
      "\n",
      "   un n\u00famero x subnormal\n",
      "   \n",
      "   x=0.0 y x=\u22120.0"
     ]
    },
    {
     "cell_type": "code",
     "collapsed": false,
     "input": [
      "bits(NaN)"
     ],
     "language": "python",
     "metadata": {},
     "outputs": [
      {
       "metadata": {},
       "output_type": "pyout",
       "prompt_number": 40,
       "text": [
        "\"0111111111111000000000000000000000000000000000000000000000000000\""
       ]
      }
     ],
     "prompt_number": 40
    },
    {
     "cell_type": "code",
     "collapsed": false,
     "input": [
      "bits(Inf)"
     ],
     "language": "python",
     "metadata": {},
     "outputs": [
      {
       "metadata": {},
       "output_type": "pyout",
       "prompt_number": 41,
       "text": [
        "\"0111111111110000000000000000000000000000000000000000000000000000\""
       ]
      }
     ],
     "prompt_number": 41
    },
    {
     "cell_type": "code",
     "collapsed": false,
     "input": [
      "bits(1.3125)"
     ],
     "language": "python",
     "metadata": {},
     "outputs": [
      {
       "metadata": {},
       "output_type": "pyout",
       "prompt_number": 43,
       "text": [
        "\"0011111111110101000000000000000000000000000000000000000000000000\""
       ]
      }
     ],
     "prompt_number": 43
    },
    {
     "cell_type": "code",
     "collapsed": false,
     "input": [
      "bits(-1.3125)"
     ],
     "language": "python",
     "metadata": {},
     "outputs": [
      {
       "metadata": {},
       "output_type": "pyout",
       "prompt_number": 44,
       "text": [
        "\"1011111111110101000000000000000000000000000000000000000000000000\""
       ]
      }
     ],
     "prompt_number": 44
    },
    {
     "cell_type": "code",
     "collapsed": false,
     "input": [
      "bits(0.0)"
     ],
     "language": "python",
     "metadata": {},
     "outputs": [
      {
       "metadata": {},
       "output_type": "pyout",
       "prompt_number": 45,
       "text": [
        "\"0000000000000000000000000000000000000000000000000000000000000000\""
       ]
      }
     ],
     "prompt_number": 45
    },
    {
     "cell_type": "code",
     "collapsed": false,
     "input": [
      "bits(-0.0)"
     ],
     "language": "python",
     "metadata": {},
     "outputs": [
      {
       "metadata": {},
       "output_type": "pyout",
       "prompt_number": 46,
       "text": [
        "\"1000000000000000000000000000000000000000000000000000000000000000\""
       ]
      }
     ],
     "prompt_number": 46
    },
    {
     "cell_type": "code",
     "collapsed": false,
     "input": [
      "bits(0.5)"
     ],
     "language": "python",
     "metadata": {},
     "outputs": [
      {
       "metadata": {},
       "output_type": "pyout",
       "prompt_number": 50,
       "text": [
        "\"0011111111100000000000000000000000000000000000000000000000000000\""
       ]
      }
     ],
     "prompt_number": 50
    },
    {
     "cell_type": "markdown",
     "metadata": {},
     "source": [
      "Tenemos 11 bits para el exponente, es decir, tenemos $2^{11}$ exponentes, que est\u00e1n en el intervalo $I_1 = [-1023, 2014]$. Ahora bien, lo que se hace es corresponder el intervalo $I_1$ con el intervalo $I_2 = [0, 2047]$, es decir, se lleva el -1023 al 0. De ah\u00ed, la representaci\u00f3n de un flotante es:\n",
      "\n",
      "signo exponente mantisa\n",
      "\n",
      "siempre usando la regla del bit escondido. Por ejemplo, en el caso del 0.5, su representaci\u00f3n binaria es $0.1= 0.1 \\times 2^0 = (-1)^0 1.0 \\times 2^{-1}$. Luego, el signo es cero; el exponente es la representaci\u00f3n binaria del -1+1023=1022 ---> 01111111110 (si le fantan bits adelante, se le completa con ceros, de tal manera que sumen 11 bits); y la mantisa (sin el bit escondido) es 00...0 52 veces, es decir:\n",
      "\n",
      "0-01111111110-00000000000000000000000000000000000000000000000000000\n",
      "\n",
      "Asi las cosas, \n",
      "\n",
      "$NaN = (-1)^0 \\ 1.100...0 \\times 2^{1024} --> \\ 0 \\ binariode(2047) \\ 100...00 =$0-11111111111-100...0 \n",
      "\n",
      "$Inf = (-1)^0 \\ 1.000...0 \\times 2^{1024} --> \\ 0 \\ binariode(2047) \\ 000...00 =$ 0-11111111111-000...0\n",
      "\n",
      "N\u00famero normal positivo = $(-1)^0 \\ 1.b_1 b_2 ... b_{52} \\times 2^{e} \\ --> \\ 0-binariode(e+1023)-b_1 b_2 ...b_{52}$\n",
      "\n",
      "N\u00famero subnormal = $(-1)^0 \\ 0.b_1 b_2 ... b_{52} \\times 2^{e} \\ --> \\ 0-binariode(e+1023)-0b_1 b_2 ...b_{51}$ \u00bf\u00c9STO EST\u00c1 BIEN? AQU\u00cd NO ENTIENDO QUE PASA CON LA REGLA DEL BIT ESCONDIDO. SI DE ANTEMANO PONE UN 1 ADELANTE, COMO SE DISTINQUE EL NORMAL $1.0b_1 b_2 ...b_{51}$, del subnormal $0.b_1 b_2 ... b_{51}$\n",
      "\n",
      "0.0 = $(-1)^0 \\ 0.00...00 \\times 2^{0}$\n",
      "\n",
      "-0.0 = $(-1)^1 \\ 0.00...00 \\times 2^{0}$"
     ]
    },
    {
     "cell_type": "heading",
     "level": 4,
     "metadata": {},
     "source": [
      "Ejercicio 6"
     ]
    },
    {
     "cell_type": "markdown",
     "metadata": {},
     "source": [
      "\\begin{itemize}\n",
      "\n",
      "  \\item  Dado que los n\u00fameros de punto flotante son finitos, construye la representaci\u00f3n decimal de dos n\u00fameros normales de punto flotante consecutivos, y dos subnormales consecutivos.\n",
      "\n",
      "  \\item  \u00bfCu\u00e1l es la representaci\u00f3n binaria del promedio de esos dos n\u00fameros? \u00bfQu\u00e9 obtienes a partir de tus programas?\n",
      "\n",
      "  \\item  \u00bfCu\u00e1l es la representaci\u00f3n binaria de la diferencia?\n",
      "  \n",
      "   \\end{itemize}\n",
      "   \n",
      "   PREGUNTA:\u00bfPor qu\u00e9 no funciona itemize? recuerdo que dijeron que era como latex\n"
     ]
    },
    {
     "cell_type": "markdown",
     "metadata": {},
     "source": [
      "Tomo  el $1.000...0 \\times 2^0$ y su consecutivo = $1+ 0.0000...01= 1.000...01$ (52 d\u00edgitos despu\u00e9s del punto)\n",
      "La representaci\u00f3n decimal es $1$ y $1.0000000000000004440892098500626$, seg\u00fan mi funci\u00f3n conversora. Esto para n\u00fameros normales.\n",
      "\n",
      "Para n\u00fameros subnormales, puedo tomar el 0.000...1 con 51 d\u00edgitos despu\u00e9s del punto. Lo tomo con 51 d\u00edgitos despu\u00e9s del punto, porque supongo que con el cero obligatorio al principio, suman 52 bits. Aunque no entiendo como decirle a la computadora que deje de usar la regla del bit escondido. Porque no debe aplicarse para n\u00fameros subnormales. El consecutivo a este n\u00famero es 0.00...10. La representaci\u00f3n decimal de $1 \\times 2^{-52}$ es 8.881784197001252e-16, y de su consecutivo es 1.7763568394002505e-15, seg\u00fan mi funci\u00f3n. El promedio de estos n\u00fameros es 1.3322676295501878e-15, su representaci\u00f3n binaria es n $1.111111111... \\times 2^{-50}$\n",
      "\n"
     ]
    },
    {
     "cell_type": "code",
     "collapsed": false,
     "input": [
      "4440892098500626/2"
     ],
     "language": "python",
     "metadata": {},
     "outputs": [
      {
       "metadata": {},
       "output_type": "pyout",
       "prompt_number": 56,
       "text": [
        "2.220446049250313e15"
       ]
      }
     ],
     "prompt_number": 56
    },
    {
     "cell_type": "markdown",
     "metadata": {},
     "source": [
      "el promedio de $1.0000000000000004440892098500626$ es $1.0000000000000002220446049250313$, y su representaci\u00f3n binaria seg\u00fan mi programa es $1.0000000000000101001111100010110101100010001110001101101000110110...$ El cual est\u00e1 mal, porque si meto ese n\u00famero a la funci\u00f3n que una cadena lo convierte a decimal, no me da el mismo n\u00famero. Confio en la funci\u00f3n que una cadena la convierte a real, pero no a la inversa para n\u00fameros peque\u00f1os como estos.\n",
      "\n",
      "Bien, ahora voy a promediar los n\u00fameros en binario. Tenemos el $1 \\times 2^0$ y el $1+1 \\times 2^{-52}$. Yo creo que para promediarlos hay que proceder como sigue:\n",
      "\n",
      "$\\frac{1 \\times 2^0+1 \\times 2^{-52} +1\\times 2^0}{2^1} = \\frac{10 \\times 2^{0} + 1\\times 2^{-52}}{2^1} = 10\\times 2^{-1} + 1\\times 2^{-53}= 1\\times 2^{0} + 1\\times 2^{-53}$\n",
      "\n",
      "pero aqu\u00ed hay un problema, porque tenemos un 1 en el casillero 53, entonces no hay forma de representarlo, de manera que la suma me va a dar s\u00f3lo el $1 \\times 2^{0} = 1$\n",
      "\n",
      "Ahora voy a promediar los subnormales, $0.0000..1 = 1\\times 2^{-52}$, y su sucesor $0.000...010= 1\\times 2^{-51}$, siguiente los pasos anteriores:\n",
      "\n",
      "$\\frac{1\\times 2^{-52}}{2^1} + \\frac{1\\times 2^{-51}}{2^1}= 1\\times 2^{-53} + 1\\times 2^{-52} = 1\\times 2^{-53} + 10\\times 2^{-53}= 11\\times 2^{-53}= 0.00...011,$ con 53 decimales despu\u00e9s del punto\n",
      "\n",
      "y aqu\u00ed tengo otra vez el mismo problema, que tenemos un 1 significativo en una casilla a la que no tenemos acceso. De manera que la suma va a dar $1\\times 2^{-52}$\n",
      "\n",
      "Ahora van las diferencias de los n\u00fameros.\n",
      "\n",
      "Aqu\u00ed no le veo problemas, la diferencia de los normales es:\n",
      "\n",
      "$1\\times 2^0 + 1\\times 2^{-52} -1\\times 2^0 = 1\\times 2^{-52}$\n",
      "\n",
      "y para los subnormales:\n",
      "\n",
      "$(1\\times 2^{-52} +1\\times 2^{-52})-1\\times 2^{-52}= 1\\times 2^{-52}$\n",
      "\n"
     ]
    },
    {
     "cell_type": "heading",
     "level": 4,
     "metadata": {},
     "source": [
      "Ejercicio 7. Donde todo esto, y mucho m\u00e1s, puede ser importante..."
     ]
    },
    {
     "cell_type": "markdown",
     "metadata": {},
     "source": [
      "Ejercicio 7. Donde todo esto, y mucho m\u00e1s, puede ser importante...\n",
      "\n",
      "Escribe una funci\u00f3n que eval\u00fae\n",
      "\n",
      "$f(x,y)=333.75y^6+x^2(11x^2y^2\u2212y^6\u2212121y^4\u22122)+5.5y^8+x/(2y)$\n",
      "\n",
      "Usando esta funci\u00f3n, demuestra que f(x=77617,y=33096)=\u22120.8273960599468214.\n",
      "\n",
      "\\textbf{NOTA} Los n\u00fameros han sido verificados y son correctos :-)\n"
     ]
    },
    {
     "cell_type": "code",
     "collapsed": false,
     "input": [
      "function f(x,y)\n",
      "    333.75*(big(y)^6) + (big(x)^2)*(11.0*(big(x)^2)*(big(y)^2) - (big(y)^6) -121.0*(big(y)^4) -2) + 5.5*(big(y)^8) + x/(2y)\n",
      "end"
     ],
     "language": "python",
     "metadata": {},
     "outputs": [
      {
       "metadata": {},
       "output_type": "pyout",
       "prompt_number": 1,
       "text": [
        "f (generic function with 1 method)"
       ]
      }
     ],
     "prompt_number": 1
    },
    {
     "cell_type": "code",
     "collapsed": false,
     "input": [
      "f(77617,33096)"
     ],
     "language": "python",
     "metadata": {},
     "outputs": [
      {
       "metadata": {},
       "output_type": "pyout",
       "prompt_number": 7,
       "text": [
        "-8.273960599468213050755593940266408026218414306640625e-01 with 256 bits of precision"
       ]
      }
     ],
     "prompt_number": 7
    },
    {
     "cell_type": "markdown",
     "metadata": {},
     "source": [
      "Eso da el resultado, \u00bfO se refer\u00edan a sacar el resultado ex\u00e1ctamente igual?, porque en Julia, si se trunca y redondea difiere en una unidad (del \u00faltimo digito) del resultado que dicen es el correcto, es decir, da -0.8273960599468213.\n",
      "\n",
      "Bueno, la cuesti\u00f3n est\u00e1 en que si meto ing\u00e9nuamente el polinomio:"
     ]
    },
    {
     "cell_type": "code",
     "collapsed": false,
     "input": [
      "function FM(x,y)\n",
      "    333.75*(y^6) + (x^2)*(11.0*(x^2)*(y^2) - (y^6) -121.0*(y^4) -2) + 5.5*(y^8) + x/(2y)\n",
      "end"
     ],
     "language": "python",
     "metadata": {},
     "outputs": [
      {
       "metadata": {},
       "output_type": "pyout",
       "prompt_number": 1,
       "text": [
        "FM (generic function with 1 method)"
       ]
      }
     ],
     "prompt_number": 1
    },
    {
     "cell_type": "code",
     "collapsed": false,
     "input": [
      "FM(77617,33096)"
     ],
     "language": "python",
     "metadata": {},
     "outputs": [
      {
       "metadata": {},
       "output_type": "pyout",
       "prompt_number": 2,
       "text": [
        "-4.661321616626412e29"
       ]
      }
     ],
     "prompt_number": 2
    },
    {
     "cell_type": "markdown",
     "metadata": {},
     "source": [
      "los resultados son err\u00f3neos \u00bfqu\u00e9 hace el big? El big permite m\u00e1s casilleros a los n\u00fameros, y de esa manera, no desprecia n\u00fameros significativos como los del promedio. Por ejemplo, el n\u00famero 5.5y^8 "
     ]
    },
    {
     "cell_type": "code",
     "collapsed": false,
     "input": [
      "5.5(big(33096))^8"
     ],
     "language": "python",
     "metadata": {},
     "outputs": [
      {
       "metadata": {},
       "output_type": "pyout",
       "prompt_number": 18,
       "text": [
        "7.917111340668961361101134701524942848e+36 with 256 bits of precision"
       ]
      }
     ],
     "prompt_number": 18
    },
    {
     "cell_type": "markdown",
     "metadata": {},
     "source": [
      "pero si no le pongo big"
     ]
    },
    {
     "cell_type": "code",
     "collapsed": false,
     "input": [
      "(5.5)(33096)^8"
     ],
     "language": "python",
     "metadata": {},
     "outputs": [
      {
       "metadata": {},
       "output_type": "pyout",
       "prompt_number": 39,
       "text": [
        "3.792225981440197e19"
       ]
      }
     ],
     "prompt_number": 39
    },
    {
     "cell_type": "markdown",
     "metadata": {},
     "source": [
      "Voy a traer mis funciones anteriores para ver donde sucede el error"
     ]
    },
    {
     "cell_type": "code",
     "collapsed": false,
     "input": [
      "#Acepta cadena de binarios (sin punto binario) y regresa un entero\n",
      "function bd1(x::ASCIIString) \n",
      "    suma=0  \n",
      "    for i in 1:length(x)\n",
      "        suma+= (2^(length(x)-i))*(int(x[i])-48) # se le resta 48 porque int('1') es 49, e int('0') \n",
      "        #es 48 y lo que se desea es asociar '1' con el entero 1, y '0' con 0.\n",
      "    end\n",
      "    suma\n",
      "    end"
     ],
     "language": "python",
     "metadata": {},
     "outputs": [
      {
       "metadata": {},
       "output_type": "pyout",
       "prompt_number": 22,
       "text": [
        "bd1 (generic function with 1 method)"
       ]
      }
     ],
     "prompt_number": 22
    },
    {
     "cell_type": "code",
     "collapsed": false,
     "input": [
      "#Esta funci\u00f3n acepta enteros positivos y devuelve una cadena\n",
      "function db1(n)\n",
      "       a=Int64[]\n",
      "       b=Int64[]\n",
      "    while(floor(n/2)>=1) #se calculan los residuos y se guardan en a\n",
      "                      push!(a,n%2)\n",
      "              n=div(n,2)\n",
      "              end\n",
      "    push!(a,floor(n))  #como se para un paso antes, hay que meterle el valor entero m\u00e1s chico del cociente\n",
      "    for i in 1:length(a)  # se cambia el orden de las entradas\n",
      "                   push!(b,a[length(a)+1-i])\n",
      "                   end\n",
      "   # m=64-length(b) #se le agregan al principio los ceros que faltan para que su longitud sea 64\n",
      "   # for i in 1:m\n",
      "   #    unshift!(b,0)\n",
      "   # end\n",
      "    return join(b) #para que me mande una cadena\n",
      "       end"
     ],
     "language": "python",
     "metadata": {},
     "outputs": [
      {
       "metadata": {},
       "output_type": "pyout",
       "prompt_number": 23,
       "text": [
        "db1 (generic function with 1 method)"
       ]
      }
     ],
     "prompt_number": 23
    },
    {
     "cell_type": "code",
     "collapsed": false,
     "input": [
      "for i in 1:8\n",
      "    println(\"$i, $(33096^i),   $(typeof(33096^i)),   $(db1(33096^i))\")\n",
      "end"
     ],
     "language": "python",
     "metadata": {},
     "outputs": [
      {
       "output_type": "stream",
       "stream": "stdout",
       "text": [
        "1, 33096,   Int64,   1000000101001000\n"
       ]
      },
      {
       "output_type": "stream",
       "stream": "stdout",
       "text": [
        "2, 1095345216,   Int64,   1000001010010011010010001000000\n",
        "3, 36251545268736,   Int64,   1000001111100001111000011110100111001000000000\n",
        "4, 1199781142214086656,   Int64,   1000010100110011110101001011110010101111000100001000000000000\n",
        "5, -7883307979252662272,   Int64,   -7883307979252662272\n",
        "6, 4787297201787502592,   Int64,   100001001101111111001010111000011011010110001000000000000000000\n",
        "7, 1303341267846955008,   Int64,   1001000010110011001011111101001001011001000000000000000000000\n",
        "8, 6894956329891266560,   Int64,   101111110101111110011100100000001000001000000000000000000000000\n"
       ]
      }
     ],
     "prompt_number": 30
    },
    {
     "cell_type": "code",
     "collapsed": false,
     "input": [
      "length(db1(33096^4))"
     ],
     "language": "python",
     "metadata": {},
     "outputs": [
      {
       "metadata": {},
       "output_type": "pyout",
       "prompt_number": 41,
       "text": [
        "61"
       ]
      }
     ],
     "prompt_number": 41
    },
    {
     "cell_type": "markdown",
     "metadata": {},
     "source": [
      "Entonces lo que pasa que 33096^5 ya tiene m\u00e1s de 64 bits, sin embargo le recorta a 64 y de ah\u00ed en adelante empiezan los problemas. \u00bfPor qu\u00e9 s\u00ed funciona con big? porque big son 256 bits y 33096^8 tiene 123 bits de longitud, de manera que hasta le sobran bits de precisi\u00f3n del big."
     ]
    },
    {
     "cell_type": "code",
     "collapsed": false,
     "input": [
      "length(db1(7917111340668961361101134701524942848))"
     ],
     "language": "python",
     "metadata": {},
     "outputs": [
      {
       "metadata": {},
       "output_type": "pyout",
       "prompt_number": 43,
       "text": [
        "123"
       ]
      }
     ],
     "prompt_number": 43
    },
    {
     "cell_type": "markdown",
     "metadata": {},
     "source": [
      "Lo mismo sucede con las dem\u00e1s potencias, y entonces la suma de todos los errores, da el resultado err\u00f3neo que se obtiene al escribir el polinomio ing\u00e9nuamente."
     ]
    },
    {
     "cell_type": "heading",
     "level": 4,
     "metadata": {},
     "source": [
      "Ejercicio 8"
     ]
    },
    {
     "cell_type": "markdown",
     "metadata": {},
     "source": [
      "\n",
      "Pensando en que vas a generar datos para hacer una gr\u00e1fica (con suficientes puntos), genera dichos datos para los polinomios$ f(x)=(1\u2212x)^6$ y $g(x)=x^6\u22126x^5+15x^4\u221220x^3+15x^2\u22126x+1,$ en el dominio $0.995\u2264x\u22641.005.$ \u00bfHay algo sorprendente en esto?"
     ]
    },
    {
     "cell_type": "heading",
     "level": 4,
     "metadata": {},
     "source": [
      "AQU\u00cd NO ENTEND\u00cd. \u00bfGENERAR PUNTOS PARA EL POLINOMIO QUE DA RESULTADOS ERRONE0S?"
     ]
    },
    {
     "cell_type": "markdown",
     "metadata": {},
     "source": [
      "Voy a definir los polinomios como s\u00e9 que dar\u00e1 errores para n\u00fameros grades"
     ]
    },
    {
     "cell_type": "code",
     "collapsed": false,
     "input": [
      "function f1(x)\n",
      "    (1-x)^6\n",
      "end"
     ],
     "language": "python",
     "metadata": {},
     "outputs": [
      {
       "metadata": {},
       "output_type": "pyout",
       "prompt_number": 44,
       "text": [
        "f1 (generic function with 1 method)"
       ]
      }
     ],
     "prompt_number": 44
    },
    {
     "cell_type": "code",
     "collapsed": false,
     "input": [
      "function g(x)\n",
      " x^6 - 6(x^5)+15(x^4) - 20(x^3) + 15(x^2)-6x+1.0\n",
      "end"
     ],
     "language": "python",
     "metadata": {},
     "outputs": [
      {
       "metadata": {},
       "output_type": "pyout",
       "prompt_number": 48,
       "text": [
        "g (generic function with 1 method)"
       ]
      }
     ],
     "prompt_number": 48
    },
    {
     "cell_type": "markdown",
     "metadata": {},
     "source": [
      "entonces"
     ]
    },
    {
     "cell_type": "code",
     "collapsed": false,
     "input": [
      "using PyPlot\n",
      "x = linspace(0.995,1.005,1024); y = x.^6-6*(x.^5)+15*(x.^4)-20*(x.^3)+15*(x.^2)-6*x+1\n",
      "plot(x, y, color=\"black\", linewidth=1.0)\n",
      "title(\"g(x)\")"
     ],
     "language": "python",
     "metadata": {},
     "outputs": [
      {
       "metadata": {},
       "output_type": "display_data",
       "png": "[encoded data removed]",
       "text": [
        "Figure(PyObject <matplotlib.figure.Figure object at 0x7fcd2c974850>)"
       ]
      },
      {
       "metadata": {},
       "output_type": "pyout",
       "prompt_number": 74,
       "text": [
        "PyObject <matplotlib.text.Text object at 0x7fccfe0b7b10>"
       ]
      }
     ],
     "prompt_number": 74
    },
    {
     "cell_type": "code",
     "collapsed": false,
     "input": [
      "\n",
      "\n",
      "using PyPlot\n",
      "x = linspace(0.995,1.005,1024); y = (1-x).^6;\n",
      "plot(x, y, color=\"black\", linewidth=1.0)\n",
      "title(\"f(x)\")\n",
      "\n"
     ],
     "language": "python",
     "metadata": {},
     "outputs": [
      {
       "metadata": {},
       "output_type": "display_data",
       "png": "[encoded data removed]",
       "text": [
        "Figure(PyObject <matplotlib.figure.Figure object at 0x7fccfe006cd0>)"
       ]
      },
      {
       "metadata": {},
       "output_type": "pyout",
       "prompt_number": 75,
       "text": [
        "PyObject <matplotlib.text.Text object at 0x7fccfdfdfc50>"
       ]
      }
     ],
     "prompt_number": 75
    },
    {
     "cell_type": "markdown",
     "metadata": {},
     "source": [
      "Pero en cualquier otro intervalo. Todo pasa por los redondeos en cada paso (abajo hablo de esto)."
     ]
    },
    {
     "cell_type": "code",
     "collapsed": false,
     "input": [
      "using PyPlot\n",
      "x = linspace(-1,3,1024); y = x.^6-6*(x.^5)+15*(x.^4)-20*(x.^3)+15*(x.^2)-6*x+1\n",
      "plot(x, y, color=\"black\", linewidth=1.0)\n",
      "title(\"g(x)\")"
     ],
     "language": "python",
     "metadata": {},
     "outputs": [
      {
       "metadata": {},
       "output_type": "display_data",
       "png": "[encoded data removed]",
       "text": [
        "Figure(PyObject <matplotlib.figure.Figure object at 0x7fccfdfc1d10>)"
       ]
      },
      {
       "metadata": {},
       "output_type": "pyout",
       "prompt_number": 80,
       "text": [
        "PyObject <matplotlib.text.Text object at 0x7fccfdc5ff50>"
       ]
      }
     ],
     "prompt_number": 80
    },
    {
     "cell_type": "heading",
     "level": 4,
     "metadata": {},
     "source": [
      "Ejercicio 9"
     ]
    },
    {
     "cell_type": "markdown",
     "metadata": {},
     "source": [
      "\n",
      "Explica por qu\u00e9 es mala idea usar como paso de integraci\u00f3n 0.1 o 0.01, u otros valores de este estilo. \u00bfQu\u00e9 pasa con el tiempo que vas calculando en cada paso de la integraci\u00f3n?"
     ]
    },
    {
     "cell_type": "markdown",
     "metadata": {},
     "source": [
      "El 0.1 como ya vimos, no tiene representaci\u00f3n binaria finita, de entrada lo trunca a 0.000110011001100110011001100110011001100110011001100110011001100, entonces la suma (en la computadora) de 0.1 + 0.1 es  0.000100010001000100010001000100010001000100010001000100010001000 -decimal-> 0.06666666666666667, pero la representaci\u00f3n binaria de 0.2 es 0.001100110011001100110011001100110011001100110011001100110011001 (ya truncado, porque tambi\u00e9n es peri\u00f3dico infinito). La diferencia entre la suma de la computadora y \"lo que deber\u00eda ser\" es 0.001000100010001000100010001000100010001000100010001000100010001 que en decimal es 0.133333...=4/30. De manera que por cada paso, el tiempo disminuye en 4/30. NOTA DEBIDA A SEGUNDA LECTURA: creo que en realidad trunca hasta que se tengan 52 digitos decimales. Por ejemplo el 0.1 lo representa como:\n",
      "$1.1001100110011001100110011001100110011001100110011001\\times 2^{-4}$"
     ]
    },
    {
     "cell_type": "heading",
     "level": 4,
     "metadata": {},
     "source": [
      "Eso es lo que cre\u00eda, pero..."
     ]
    },
    {
     "cell_type": "code",
     "collapsed": false,
     "input": [
      "0.1+0.1"
     ],
     "language": "python",
     "metadata": {},
     "outputs": [
      {
       "metadata": {},
       "output_type": "pyout",
       "prompt_number": 82,
       "text": [
        "0.2"
       ]
      }
     ],
     "prompt_number": 82
    },
    {
     "cell_type": "markdown",
     "metadata": {},
     "source": [
      "Da 0.2 y no 0.0666...=1/15, entonces ya no s\u00e9 que es lo que pasa."
     ]
    },
    {
     "cell_type": "code",
     "collapsed": false,
     "input": [
      "bits(0.2)"
     ],
     "language": "python",
     "metadata": {},
     "outputs": [
      {
       "metadata": {},
       "output_type": "pyout",
       "prompt_number": 58,
       "text": [
        "\"0011111111001001100110011001100110011001100110011001100110011010\""
       ]
      }
     ],
     "prompt_number": 58
    },
    {
     "cell_type": "code",
     "collapsed": false,
     "input": [
      "bits(1/15)"
     ],
     "language": "python",
     "metadata": {},
     "outputs": [
      {
       "metadata": {},
       "output_type": "pyout",
       "prompt_number": 69,
       "text": [
        "\"0011111110110001000100010001000100010001000100010001000100010001\""
       ]
      }
     ],
     "prompt_number": 69
    },
    {
     "cell_type": "heading",
     "level": 4,
     "metadata": {},
     "source": [
      "\u00bfpor qu\u00e9 0.1+0.1=0.2?"
     ]
    },
    {
     "cell_type": "code",
     "collapsed": false,
     "input": [],
     "language": "python",
     "metadata": {},
     "outputs": []
    }
   ],
   "metadata": {}
  }
 ]
}