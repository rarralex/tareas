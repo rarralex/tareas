{
 "metadata": {
  "kernelspec": {
   "display_name": "Julia 0.3.7-pre",
   "language": "julia",
   "name": "julia 0.3"
  },
  "language": "Julia",
  "language_info": {
   "name": "julia",
   "version": "0.3.7"
  },
  "name": "",
  "signature": "sha256:542004f25c53a6ae407ef559ae36f0b0c0bd398585c539b08e5633aeeabd22b8"
 },
 "nbformat": 3,
 "nbformat_minor": 0,
 "worksheets": [
  {
   "cells": [
    {
     "cell_type": "heading",
     "level": 1,
     "metadata": {},
     "source": [
      "Intervalos"
     ]
    },
    {
     "cell_type": "markdown",
     "metadata": {},
     "source": [
      "Como vimos en el notebook anterior, trabajaremos con intervalos.\n",
      "\n",
      "Recordemos que un *intervalo* $[a,b] \\subseteq \\mathbb{R^*}$ es el conjunto \n",
      "\n",
      "$$[a, b] := \\{x \\in \\mathbb{R}^* : a \\le x \\le b \\}$$."
     ]
    },
    {
     "cell_type": "heading",
     "level": 2,
     "metadata": {},
     "source": [
      "Intervalos en Julia"
     ]
    },
    {
     "cell_type": "markdown",
     "metadata": {},
     "source": [
      "[1] (i) Define un tipo comp\u00f3sito de Julia `Intervalo` para representar un intervalo de dos n\u00fameros reales, que incluya redondeo dirigido. Por el momento supongamos que todos los elementos ser\u00e1n de tipo `BigFloat`.\n",
      "\n",
      "Para ello, deber\u00e1s definir constructores que acepten cadenas y/o n\u00fameros.\n",
      "\n",
      "(ii) Implementa las operaciones b\u00e1sicas sobre intervalos.\n",
      "\n",
      "(iii) Limpia tu c\u00f3digo para reducir la repetici\u00f3n de c\u00f3digo, al sacar cada vez c\u00f3digo en com\u00fan a una funci\u00f3n por separado.\n",
      "\n",
      "[2] Haz un *m\u00f3dulo* de Julia llamado `Intervalos` en un archivo `intervalos.jl`, que contiene todas las definiciones anteriores. \n",
      "\n",
      "[3] (i) Escribe *tests* (\"pruebas\") usando [`FactCheck.jl`](https://github.com/JuliaLang/FactCheck.jl).\n",
      "\n",
      "Estos tests se deber\u00e1n correr cada vez que modifiques tu c\u00f3digo, \u00a1para verificar que no lo hayas estropeado entre tanto!\n",
      "\n",
      "(ii) \u00a1Intenta destruir el c\u00f3digo de alguien m\u00e1s! O sea, escribe tests que realmente prueben el c\u00f3digo del otro (\u00a1\"extreme testing\"!)"
     ]
    },
    {
     "cell_type": "heading",
     "level": 3,
     "metadata": {},
     "source": [
      "Lo que dice en el archivo .jl, no lo escribo en tipo code porque voy a jalar el archivo."
     ]
    },
    {
     "cell_type": "markdown",
     "metadata": {},
     "source": [
      "module intervalos\n",
      "export Intervalo, subset, Cestricto, rad, mid, mig, mag, abs, d, pow\n",
      "\n",
      "\n",
      "type Intervalo\n",
      "\tinf::Real\n",
      "    \tsup::Real\n",
      "    function Intervalo(inf,sup)\n",
      "        set_rounding(BigFloat,RoundDown)\n",
      "        x=BigFloat(\"$(inf)\")\n",
      "        set_rounding(BigFloat,RoundUp)\n",
      "        y=BigFloat(\"$(sup)\")\n",
      "        set_rounding(BigFloat,RoundNearest)\n",
      "        if inf>sup \n",
      "            new(y,x)\n",
      "        else\n",
      "            new(x,y)\n",
      "        end\n",
      "    end\n",
      "end\n",
      "\n",
      "Intervalo(x::Real) = Intervalo(x,x)\n",
      "\n",
      "\n",
      "Intervalo() = println(\"Intervalo vac\u00edo\")\n",
      "\n",
      "\n",
      "function +(A::Intervalo,B::Intervalo)\n",
      "\tset_rounding(BigFloat,RoundDown)\n",
      "    x= A.inf+B.inf\n",
      "    set_rounding(BigFloat,RoundUp)\n",
      "    y=A.sup+B.inf\n",
      "    set_rounding(BigFloat,RoundNearest)\n",
      "    Intervalo(x,y)\n",
      "end\n",
      "\n",
      "+(x::Intervalo, y::Real) = x + Intervalo(y)\n",
      "\n",
      "+(x::Real, y::Intervalo) = Intervalo(x) + y\n",
      "\n",
      "function -(A::Intervalo,B::Intervalo)\n",
      "\tset_rounding(BigFloat,RoundDown)\n",
      "    x= A.inf-B.sup\n",
      "    set_rounding(BigFloat,RoundUp)\n",
      "    y=A.sup-B.inf\n",
      "    set_rounding(BigFloat,RoundNearest)\n",
      "    Intervalo(x,y)\n",
      "end\n",
      "\n",
      "-(x::Intervalo, y::Real) = x - Intervalo(y)\n",
      "\n",
      "-(x::Real, y::Intervalo) = Intervalo(x) - y\n",
      "\n",
      "function *(A::Intervalo,B::Intervalo)\n",
      "\tset_rounding(BigFloat,RoundDown)\n",
      "    x=min(A.inf*B.inf,A.inf*B.sup,A.sup*B.inf,A.sup*B.sup)\n",
      "    set_rounding(BigFloat,RoundUp)\n",
      "    y=max(A.inf*B.inf,A.inf*B.sup,A.sup*B.inf,A.sup*B.sup)\n",
      "    set_rounding(BigFloat,RoundNearest)\n",
      "    Intervalo(x,y)\n",
      "end\n",
      "\n",
      "*(x::Intervalo, y::Real) = x*Intervalo(y)\n",
      "\n",
      "*(x::Real, y::Intervalo) = Intervalo(x)*y\n",
      "\n",
      "function ==(A::Intervalo,B::Intervalo)\n",
      "\tif A.inf==B.inf && A.sup==B.sup\n",
      "       true\n",
      "    else\n",
      "       false\n",
      "    end\n",
      "end\n",
      "\n",
      "import Base.in\n",
      "\n",
      "function in(x::Real,A::Intervalo)\n",
      "    if A.inf<=x && x<=A.sup\n",
      "       true\n",
      "    else\n",
      "       false\n",
      "    end\n",
      "end\n",
      "\n",
      "function /(A::Intervalo, B::Intervalo)\n",
      "\tif 0 in B == false\n",
      "       return A*Intervalo(1/(B.sup),1/(B.inf))\n",
      "    end\n",
      "    if (0 in A && 0 in B)\n",
      "       return Intervalo(-Inf, Inf)\n",
      "    end\n",
      "    if (A.sup < 0 && B.inf < B.sup == 0)\n",
      "       return Intervalo(A.sup/B.inf, Inf)\n",
      "    end\n",
      "    if (A.sup < 0 && B.inf < 0 < B.sup)\n",
      "       return Intervalo(A.sup/B.inf, A.sup/B.sup)\n",
      "    end\n",
      "    if (A.sup < 0 && 0 == B.inf < B.sup)\n",
      "       return Intervalo(-Inf, A.sup/B.sup)\n",
      "    end\n",
      "    if (0< A.inf && B.inf < B.sup==0)\n",
      "       return Intervalo(-Inf, A.inf/B.inf)\n",
      "    end\n",
      "    if (0 < A.inf && B.inf < 0 < B.sup)\n",
      "       return Intervalo(A.inf/B.sup, A.inf/B.inf)\n",
      "    end\n",
      "    if (0 < A.inf && 0 == B.inf < B.sup)\n",
      "       return Intervalo(A.inf/B.sup, Inf)\n",
      "    end\n",
      "    if ( 0 in A == false && B == Intervalo(0,0))\n",
      "       return Intervalo()\n",
      "    end\n",
      "end\n",
      "\n",
      "function \u2286(A::Intervalo, B::Intervalo)\n",
      "\tif ((B.inf<= A.inf) && (A.sup<=B.sup))\n",
      "       true\n",
      "    else\n",
      "       false\n",
      "    end\n",
      "end\n",
      "\n",
      "function subset(A::Intervalo, B::Intervalo)\n",
      "\tif ((A \u2286 B) && ((A==B) == false)) \n",
      "\t    true\n",
      "\telse\n",
      "\t\tfalse\n",
      "    end\n",
      "end\n",
      "\n",
      "\n",
      "\n",
      "function Cestricto(A::Intervalo, B::Intervalo)\n",
      "\tif ((B.inf<A.inf) && (A.sup<B.sup))\n",
      "       true\n",
      "    else\n",
      "       false\n",
      "    end\n",
      "end\n",
      "\n",
      "\n",
      "function \u2229(A::Intervalo, B::Intervalo)\n",
      "\tif (A.sup < B.inf || B.sup < A.inf)\n",
      "\t\treturn Intervalo()\n",
      "\telse\n",
      "\t\treturn Intervalo(max(A.inf,B.inf),min(A.sup,B.sup))\n",
      "\tend\n",
      "end\n",
      "\n",
      "rad(A::Intervalo) = 0.5*(A.sup - A.inf)\n",
      "\n",
      "mid(A::Intervalo) = 0.5*(A.sup + A.inf)\n",
      "\n",
      "\n",
      "\n",
      "function mig(A::Intervalo)\n",
      "\tif (0 in A)\n",
      "\t\treturn 0\n",
      "\telse\n",
      "\t\treturn min((A.inf),abs(A.sup))\n",
      "\tend\n",
      "end\n",
      "\n",
      "mag(A::Intervalo) = max(abs(A.inf), abs(A.sup))\n",
      "\n",
      "import Base.abs\n",
      "\n",
      "function abs(A::Intervalo)\n",
      "\treturn Intervalo(mig(A),mag(A))\n",
      "end\n",
      "\n",
      "function d(A::Intervalo,B::Intervalo)\n",
      "\treturn max(abs(A.inf-B.inf),abs(A.sup-B.sup))\n",
      "end\n",
      "\n",
      "function ^(A::Intervalo, n::Int)\n",
      "\tif (n>0 && (mod(n,2)==1))\n",
      "\t\treturn Intervalo(A.inf^n, A.sup^n)\n",
      "\tend\n",
      "\t\n",
      "\tif (n>0 && (mod(n,2)==0))\n",
      "\t\treturn Intervalo(mig(A)^n, mag(A)^n)\n",
      "\tend\n",
      "\n",
      "\tif n==0\n",
      "\t\treturn Intervalo(1,1)\n",
      "\tend\n",
      "\n",
      "\tif (n<0 && (0 in A == false))\n",
      "\t\tm=-n\n",
      "\t\tif (mod(m,2)==1)\n",
      "\t\t\treturn Intervalo(1/(A.sup^m),1/(A.inf^m))\n",
      "\t\tend\n",
      "\n",
      "\t\tif (mod(m,2)==0) \n",
      "\t\t\treturn Intervalo((mig(Intervalo(1/A.sup,1/A.inf)))^m,(mag(Intervalo(1/A.sup,1/A.inf)))^m)\n",
      "\t\tend\n",
      "\tend\n",
      "\n",
      "\tif (n<0 && (0 in A))\n",
      "\t\treturn error(\"No definido\")\n",
      "\tend\n",
      "end\n",
      "\n",
      "pow(A::Intervalo,n::Int) = ^(A::Intervalo,n::Int)\n",
      "\n",
      "\n",
      "\n",
      "end \n"
     ]
    },
    {
     "cell_type": "code",
     "collapsed": false,
     "input": [
      "using intervalos"
     ],
     "language": "python",
     "metadata": {},
     "outputs": [],
     "prompt_number": 3
    },
    {
     "cell_type": "code",
     "collapsed": false,
     "input": [
      "using FactCheck"
     ],
     "language": "python",
     "metadata": {},
     "outputs": [],
     "prompt_number": 4
    },
    {
     "cell_type": "code",
     "collapsed": false,
     "input": [
      "include(\"test1.jl\")"
     ],
     "language": "python",
     "metadata": {},
     "outputs": [
      {
       "output_type": "stream",
       "stream": "stdout",
       "text": [
        "test\n",
        "9 facts verified.\n"
       ]
      },
      {
       "metadata": {},
       "output_type": "pyout",
       "prompt_number": 5,
       "text": [
        "delayed_handler (generic function with 4 methods)"
       ]
      }
     ],
     "prompt_number": 5
    },
    {
     "cell_type": "heading",
     "level": 2,
     "metadata": {},
     "source": [
      "Operaciones con intervalos "
     ]
    },
    {
     "cell_type": "markdown",
     "metadata": {},
     "source": [
      "El prop\u00f3sito de trabajar con intervalos es, por supuesto, el poder *usarlos* para llevar a cabo c\u00e1lculos."
     ]
    },
    {
     "cell_type": "markdown",
     "metadata": {},
     "source": [
      "[4] Utiliza tu c\u00f3digo para rehacer el c\u00e1lculo de $\\pi$ del notebook 5. Ahora, \u00a1deber\u00e1 ser mucho m\u00e1s f\u00e1cil! \n",
      "\n",
      "\u00bfCu\u00e1l es la diferencia entre el c\u00e1lculo mediante intervalos y el c\u00e1lculo original que hicimos?"
     ]
    },
    {
     "cell_type": "code",
     "collapsed": false,
     "input": [
      "function sumaPi(N::Int)\n",
      "suma=Intervalo(1/(N+1),1/N)\n",
      "for i in 1:N\n",
      "       suma+=Intervalo(1/(i^2),1/(i^2))\n",
      "end\n",
      "suma\n",
      "end"
     ],
     "language": "python",
     "metadata": {},
     "outputs": [
      {
       "metadata": {},
       "output_type": "pyout",
       "prompt_number": 3,
       "text": [
        "sumaPi (generic function with 1 method)"
       ]
      }
     ],
     "prompt_number": 3
    },
    {
     "cell_type": "markdown",
     "metadata": {},
     "source": [
      "La funcion anterior tiene como argumento el orden de la suma."
     ]
    },
    {
     "cell_type": "code",
     "collapsed": false,
     "input": [
      "sumaPi(10000)"
     ],
     "language": "python",
     "metadata": {},
     "outputs": [
      {
       "metadata": {},
       "output_type": "pyout",
       "prompt_number": 4,
       "text": [
        "Intervalo(1.644934061849059652614226999999999999999999999999999999999999999999999999826821e+00 with 256 bits of precision,1.644934071848059752594227000000000000000000000000000000000000000000000000170828e+00 with 256 bits of precision)"
       ]
      }
     ],
     "prompt_number": 4
    },
    {
     "cell_type": "code",
     "collapsed": false,
     "input": [
      "\u03c0^2/6 in ans"
     ],
     "language": "python",
     "metadata": {},
     "outputs": [
      {
       "metadata": {},
       "output_type": "pyout",
       "prompt_number": 5,
       "text": [
        "true"
       ]
      }
     ],
     "prompt_number": 5
    },
    {
     "cell_type": "markdown",
     "metadata": {},
     "source": [
      "En realidad no da un resultado, sino una cota superior y una cota inferior para el resultado. Lo cual ya es bastant bueno, potque en realidad no se puede hacer la suma"
     ]
    },
    {
     "cell_type": "markdown",
     "metadata": {},
     "source": [
      "Sin embargo, hay sutilezas con las operaciones con intervalos:"
     ]
    },
    {
     "cell_type": "markdown",
     "metadata": {},
     "source": [
      "[5] (i) Define la potencia para intervalos.\n",
      "\n",
      "(ii) Para el intervalo $X = [-1,1]$, calcula $X \\cdot X$ y $X^2$ (donde $\\cdot$ denota la multiplicaci\u00f3n de intervalos). \u00bfQu\u00e9 observas? "
     ]
    },
    {
     "cell_type": "markdown",
     "metadata": {},
     "source": [
      "Lo defino seguiendo al Tucker, dentro del m\u00f3dulo."
     ]
    },
    {
     "cell_type": "code",
     "collapsed": false,
     "input": [
      "X1 = Intervalo(-1,1)"
     ],
     "language": "python",
     "metadata": {},
     "outputs": [
      {
       "metadata": {},
       "output_type": "pyout",
       "prompt_number": 6,
       "text": [
        "Intervalo(-1e+00 with 256 bits of precision,1e+00 with 256 bits of precision)"
       ]
      }
     ],
     "prompt_number": 6
    },
    {
     "cell_type": "code",
     "collapsed": false,
     "input": [
      "X1*X1"
     ],
     "language": "python",
     "metadata": {},
     "outputs": [
      {
       "metadata": {},
       "output_type": "pyout",
       "prompt_number": 7,
       "text": [
        "Intervalo(-1e+00 with 256 bits of precision,1e+00 with 256 bits of precision)"
       ]
      }
     ],
     "prompt_number": 7
    },
    {
     "cell_type": "code",
     "collapsed": false,
     "input": [
      "X1^2"
     ],
     "language": "python",
     "metadata": {},
     "outputs": [
      {
       "metadata": {},
       "output_type": "pyout",
       "prompt_number": 8,
       "text": [
        "Intervalo(0e+00 with 256 bits of precision,1e+00 with 256 bits of precision)"
       ]
      }
     ],
     "prompt_number": 8
    },
    {
     "cell_type": "markdown",
     "metadata": {},
     "source": [
      "(iii) Calcula $[-1,1] \\cdot \\left([-1,0] + [3,4]\\right)$ y $[-1,1]\\cdot [-1,0] + [-1,1] \\cdot [3,4]$. \u00bfQu\u00e9 observas?"
     ]
    },
    {
     "cell_type": "code",
     "collapsed": false,
     "input": [
      "X2=Intervalo(-1,0)\n",
      "X3=Intervalo(3,4)"
     ],
     "language": "python",
     "metadata": {},
     "outputs": [
      {
       "metadata": {},
       "output_type": "pyout",
       "prompt_number": 9,
       "text": [
        "Intervalo(3e+00 with 256 bits of precision,4e+00 with 256 bits of precision)"
       ]
      }
     ],
     "prompt_number": 9
    },
    {
     "cell_type": "code",
     "collapsed": false,
     "input": [
      "X1*(X2+X3)"
     ],
     "language": "python",
     "metadata": {},
     "outputs": [
      {
       "metadata": {},
       "output_type": "pyout",
       "prompt_number": 10,
       "text": [
        "Intervalo(-3e+00 with 256 bits of precision,3e+00 with 256 bits of precision)"
       ]
      }
     ],
     "prompt_number": 10
    },
    {
     "cell_type": "code",
     "collapsed": false,
     "input": [
      "X1*X2 + X1*X3"
     ],
     "language": "python",
     "metadata": {},
     "outputs": [
      {
       "metadata": {},
       "output_type": "pyout",
       "prompt_number": 11,
       "text": [
        "Intervalo(-5e+00 with 256 bits of precision,-3e+00 with 256 bits of precision)"
       ]
      }
     ],
     "prompt_number": 11
    },
    {
     "cell_type": "markdown",
     "metadata": {},
     "source": [
      "La multiplicaci\u00f3n no es distribuitiva"
     ]
    },
    {
     "cell_type": "markdown",
     "metadata": {},
     "source": [
      "[6] Con las operaciones definidas en Julia, podemos insertar intervalos en c\u00e1lculos sencillos.\n",
      "\n",
      "(i) Define una funci\u00f3n polinomial $p_1(x) := (x-1)(x-2)$. \n",
      "\n",
      "(ii) \u00bfC\u00f3mo se puede mandar a $p_1$ un intervalo como argumento?\n"
     ]
    },
    {
     "cell_type": "markdown",
     "metadata": {},
     "source": [
      "Simplemente se define un polinomio (de manera normal) y se mete como argumento un intervalo. Como si fuera un n\u00famero."
     ]
    },
    {
     "cell_type": "code",
     "collapsed": false,
     "input": [
      "p1(x)=(x-1)*(x-2)"
     ],
     "language": "python",
     "metadata": {},
     "outputs": [
      {
       "metadata": {},
       "output_type": "pyout",
       "prompt_number": 15,
       "text": [
        "p1 (generic function with 1 method)"
       ]
      }
     ],
     "prompt_number": 15
    },
    {
     "cell_type": "code",
     "collapsed": false,
     "input": [
      "p1(X3)"
     ],
     "language": "python",
     "metadata": {},
     "outputs": [
      {
       "metadata": {},
       "output_type": "pyout",
       "prompt_number": 16,
       "text": [
        "Intervalo(2e+00 with 256 bits of precision,6e+00 with 256 bits of precision)"
       ]
      }
     ],
     "prompt_number": 16
    },
    {
     "cell_type": "code",
     "collapsed": false,
     "input": [
      "p1(3)"
     ],
     "language": "python",
     "metadata": {},
     "outputs": [
      {
       "metadata": {},
       "output_type": "pyout",
       "prompt_number": 19,
       "text": [
        "2"
       ]
      }
     ],
     "prompt_number": 19
    },
    {
     "cell_type": "code",
     "collapsed": false,
     "input": [
      "p1(4)"
     ],
     "language": "python",
     "metadata": {},
     "outputs": [
      {
       "metadata": {},
       "output_type": "pyout",
       "prompt_number": 20,
       "text": [
        "6"
       ]
      }
     ],
     "prompt_number": 20
    },
    {
     "cell_type": "code",
     "collapsed": false,
     "input": [
      "p2(x)=x^2-3*x+2"
     ],
     "language": "python",
     "metadata": {},
     "outputs": [
      {
       "metadata": {},
       "output_type": "pyout",
       "prompt_number": 21,
       "text": [
        "p2 (generic function with 1 method)"
       ]
      }
     ],
     "prompt_number": 21
    },
    {
     "cell_type": "code",
     "collapsed": false,
     "input": [
      "p2(X3)"
     ],
     "language": "python",
     "metadata": {},
     "outputs": [
      {
       "metadata": {},
       "output_type": "pyout",
       "prompt_number": 22,
       "text": [
        "Intervalo(-1e+00 with 256 bits of precision,9e+00 with 256 bits of precision)"
       ]
      }
     ],
     "prompt_number": 22
    },
    {
     "cell_type": "code",
     "collapsed": false,
     "input": [
      "p3(x)=x*(x-2)-(x-2)"
     ],
     "language": "python",
     "metadata": {},
     "outputs": [
      {
       "metadata": {},
       "output_type": "pyout",
       "prompt_number": 20,
       "text": [
        "p3 (generic function with 1 method)"
       ]
      }
     ],
     "prompt_number": 20
    },
    {
     "cell_type": "code",
     "collapsed": false,
     "input": [
      "p3(X3)"
     ],
     "language": "python",
     "metadata": {},
     "outputs": [
      {
       "metadata": {},
       "output_type": "pyout",
       "prompt_number": 21,
       "text": [
        "Intervalo(1e+00 with 256 bits of precision,7e+00 with 256 bits of precision)"
       ]
      }
     ],
     "prompt_number": 21
    },
    {
     "cell_type": "markdown",
     "metadata": {},
     "source": [
      "(iii) \u00bfQu\u00e9 representa el resultado?\n",
      "\n",
      "(iv) Juega con distintos intervalos como entrada y dibuja los resultados. \u00bfQu\u00e9 observas?\n",
      "\n",
      "(v) \u00bfQu\u00e9 pasa si reescribes $p_1$ en una forma equivalente? \u00bfEn otra forma equivalente?\n",
      "\n",
      "(vi) Pensando en este ejemplo de polinomios, \u00bfpara qu\u00e9 nos sirven los intervalos?"
     ]
    },
    {
     "cell_type": "markdown",
     "metadata": {},
     "source": [
      "(iii) Cuando el polinomio est\u00e1 escrito en la forma de p1, es mapear todo el intervalo por medio de la funci\u00f3n que define el polinomio, es decir, manda cada punto del intervalo al valor que le hace corresponder la funci\u00f3n. Pero cuando est\u00e1 escrito en la forma p2 y p3, ya no manda a cada punto como si lo evaluara en el polinomio, sino que primero (por ejemplo en el caso del p2) eleva el intervalo al cuadrado, luego le resta 3 por el intervalo, que es restarle el polinomio arrastrado y \"anchado\" (por tres), y luego le suma el intervalo (2,2). Totalmente distinto a lo que hace p1.\n",
      "\n",
      "(iv) s\u00e9 que est\u00e1 muy anticuado, pero la forma m\u00e1s f\u00e1cil para m\u00ed fue graficar a mano. Intent\u00e9 subir una grafica hecha en gnuplot, pero no pude, el c\u00f3digo lo pongo abajo. Lo mejor ser\u00eda que les muestre las gr\u00e1ficas el lunes.\n",
      "\n",
      "(v) Los resultado son distintos, como se dice en (iii)\n",
      "\n",
      "(vi)F Fue claro en el calculo de $\\pi^2/6$, para dar cotas de alg\u00fan c\u00e1lculo. En el caso de los polin\u00f3mios, nos da posibles cotas de la operaci\u00f3n de evaluar el polinomio en cada punto del intervalo que se mete como argumento."
     ]
    },
    {
     "cell_type": "markdown",
     "metadata": {},
     "source": [
      "**Codigo para insertar imagen** la imagen est\u00e1 en la carpeta files. La casilla debe ser tipo Markdown, pero lo puse en code para que lo vean."
     ]
    },
    {
     "cell_type": "code",
     "collapsed": false,
     "input": [
      "<img src=\"files/image.png\">"
     ],
     "language": "python",
     "metadata": {},
     "outputs": [
      {
       "ename": "LoadError",
       "evalue": "syntax: extra token \"img\" after end of expression\nwhile loading In[2], in expression starting on line 1",
       "output_type": "pyerr",
       "traceback": [
        "syntax: extra token \"img\" after end of expression\nwhile loading In[2], in expression starting on line 1",
        ""
       ]
      }
     ],
     "prompt_number": 2
    },
    {
     "cell_type": "markdown",
     "metadata": {},
     "source": [
      "[7] (i) Haz una implementaci\u00f3n de tu idea de la pregunta [6].\n",
      "\n",
      "(ii) Pru\u00e9balo con $p_2(x) := x^2 - 2$."
     ]
    },
    {
     "cell_type": "code",
     "collapsed": false,
     "input": [
      "x4=Intervalo(1,2)"
     ],
     "language": "python",
     "metadata": {},
     "outputs": [
      {
       "metadata": {},
       "output_type": "pyout",
       "prompt_number": 26,
       "text": [
        "Intervalo(1e+00 with 256 bits of precision,2e+00 with 256 bits of precision)"
       ]
      }
     ],
     "prompt_number": 26
    },
    {
     "cell_type": "code",
     "collapsed": false,
     "input": [
      "pp1(x)=(x-sqrt(2))*(x+sqrt(2))"
     ],
     "language": "python",
     "metadata": {},
     "outputs": [
      {
       "metadata": {},
       "output_type": "pyout",
       "prompt_number": 23,
       "text": [
        "pp1 (generic function with 1 method)"
       ]
      }
     ],
     "prompt_number": 23
    },
    {
     "cell_type": "code",
     "collapsed": false,
     "input": [
      "pp2(x)=x^2-2"
     ],
     "language": "python",
     "metadata": {},
     "outputs": [
      {
       "metadata": {},
       "output_type": "pyout",
       "prompt_number": 24,
       "text": [
        "pp2 (generic function with 1 method)"
       ]
      }
     ],
     "prompt_number": 24
    },
    {
     "cell_type": "code",
     "collapsed": false,
     "input": [
      "pp1(x4)"
     ],
     "language": "python",
     "metadata": {},
     "outputs": [
      {
       "metadata": {},
       "output_type": "pyout",
       "prompt_number": 27,
       "text": [
        "Intervalo(-1.41421356237309524481069235364401000000000000000000000000000000000000000000008e+00 with 256 bits of precision,1.99999999999999985518930764635599000000000000000000000000000000000000000000002e+00 with 256 bits of precision)"
       ]
      }
     ],
     "prompt_number": 27
    },
    {
     "cell_type": "code",
     "collapsed": false,
     "input": [
      "pp2(x4)"
     ],
     "language": "python",
     "metadata": {},
     "outputs": [
      {
       "metadata": {},
       "output_type": "pyout",
       "prompt_number": 28,
       "text": [
        "Intervalo(-1e+00 with 256 bits of precision,2e+00 with 256 bits of precision)"
       ]
      }
     ],
     "prompt_number": 28
    },
    {
     "cell_type": "code",
     "collapsed": false,
     "input": [
      "pp1(1)"
     ],
     "language": "python",
     "metadata": {},
     "outputs": [
      {
       "metadata": {},
       "output_type": "pyout",
       "prompt_number": 29,
       "text": [
        "-1.0000000000000002"
       ]
      }
     ],
     "prompt_number": 29
    },
    {
     "cell_type": "code",
     "collapsed": false,
     "input": [
      "pp1(2)"
     ],
     "language": "python",
     "metadata": {},
     "outputs": [
      {
       "metadata": {},
       "output_type": "pyout",
       "prompt_number": 30,
       "text": [
        "1.9999999999999996"
       ]
      }
     ],
     "prompt_number": 30
    },
    {
     "cell_type": "markdown",
     "metadata": {},
     "source": [
      "Lo cual me sorprendi\u00f3, porque  pens\u00e9 que cada vez que escribiera al polonomio en la descomposici\u00f3n de sus raices, iba a obtener el resultado  de mapear el intervalo por  medio de \u00e9ste."
     ]
    },
    {
     "cell_type": "markdown",
     "metadata": {},
     "source": [
      "(iii) Pru\u00e9balo con otros polinomios."
     ]
    },
    {
     "cell_type": "code",
     "collapsed": false,
     "input": [
      "p11(x)=(x-2)*(x-3)*(x-4)"
     ],
     "language": "python",
     "metadata": {},
     "outputs": [
      {
       "metadata": {},
       "output_type": "pyout",
       "prompt_number": 32,
       "text": [
        "p11 (generic function with 1 method)"
       ]
      }
     ],
     "prompt_number": 32
    },
    {
     "cell_type": "code",
     "collapsed": false,
     "input": [
      "p22(x)= x^3 - 9*x^2 + 26*x - 24"
     ],
     "language": "python",
     "metadata": {},
     "outputs": [
      {
       "metadata": {},
       "output_type": "pyout",
       "prompt_number": 33,
       "text": [
        "p22 (generic function with 1 method)"
       ]
      }
     ],
     "prompt_number": 33
    },
    {
     "cell_type": "code",
     "collapsed": false,
     "input": [
      "p11(x4)"
     ],
     "language": "python",
     "metadata": {},
     "outputs": [
      {
       "metadata": {},
       "output_type": "pyout",
       "prompt_number": 34,
       "text": [
        "Intervalo(-6e+00 with 256 bits of precision,0e+00 with 256 bits of precision)"
       ]
      }
     ],
     "prompt_number": 34
    },
    {
     "cell_type": "code",
     "collapsed": false,
     "input": [
      "p22(x4)"
     ],
     "language": "python",
     "metadata": {},
     "outputs": [
      {
       "metadata": {},
       "output_type": "pyout",
       "prompt_number": 35,
       "text": [
        "Intervalo(-3.3e+01 with 256 bits of precision,1e+00 with 256 bits of precision)"
       ]
      }
     ],
     "prompt_number": 35
    },
    {
     "cell_type": "code",
     "collapsed": false,
     "input": [
      "p11(1)"
     ],
     "language": "python",
     "metadata": {},
     "outputs": [
      {
       "metadata": {},
       "output_type": "pyout",
       "prompt_number": 36,
       "text": [
        "-6"
       ]
      }
     ],
     "prompt_number": 36
    },
    {
     "cell_type": "code",
     "collapsed": false,
     "input": [
      "p11(2)"
     ],
     "language": "python",
     "metadata": {},
     "outputs": [
      {
       "metadata": {},
       "output_type": "pyout",
       "prompt_number": 37,
       "text": [
        "0"
       ]
      }
     ],
     "prompt_number": 37
    },
    {
     "cell_type": "markdown",
     "metadata": {},
     "source": [
      "Ahora si defino el polinomio"
     ]
    },
    {
     "cell_type": "code",
     "collapsed": false,
     "input": [
      "p13(x)=(x-4)*(x+4)"
     ],
     "language": "python",
     "metadata": {},
     "outputs": [
      {
       "metadata": {},
       "output_type": "pyout",
       "prompt_number": 39,
       "text": [
        "p13 (generic function with 1 method)"
       ]
      }
     ],
     "prompt_number": 39
    },
    {
     "cell_type": "code",
     "collapsed": false,
     "input": [
      "p14(x)=x^2-16"
     ],
     "language": "python",
     "metadata": {},
     "outputs": [
      {
       "metadata": {},
       "output_type": "pyout",
       "prompt_number": 41,
       "text": [
        "p14 (generic function with 1 method)"
       ]
      }
     ],
     "prompt_number": 41
    },
    {
     "cell_type": "code",
     "collapsed": false,
     "input": [
      "p13(x4)"
     ],
     "language": "python",
     "metadata": {},
     "outputs": [
      {
       "metadata": {},
       "output_type": "pyout",
       "prompt_number": 42,
       "text": [
        "Intervalo(-1.8e+01 with 256 bits of precision,-1e+01 with 256 bits of precision)"
       ]
      }
     ],
     "prompt_number": 42
    },
    {
     "cell_type": "code",
     "collapsed": false,
     "input": [
      "p14(x4)"
     ],
     "language": "python",
     "metadata": {},
     "outputs": [
      {
       "metadata": {},
       "output_type": "pyout",
       "prompt_number": 43,
       "text": [
        "Intervalo(-1.5e+01 with 256 bits of precision,-1.2e+01 with 256 bits of precision)"
       ]
      }
     ],
     "prompt_number": 43
    },
    {
     "cell_type": "code",
     "collapsed": false,
     "input": [
      "p13(1)"
     ],
     "language": "python",
     "metadata": {},
     "outputs": [
      {
       "metadata": {},
       "output_type": "pyout",
       "prompt_number": 44,
       "text": [
        "-15"
       ]
      }
     ],
     "prompt_number": 44
    },
    {
     "cell_type": "code",
     "collapsed": false,
     "input": [
      "p13(2)"
     ],
     "language": "python",
     "metadata": {},
     "outputs": [
      {
       "metadata": {},
       "output_type": "pyout",
       "prompt_number": 45,
       "text": [
        "-12"
       ]
      }
     ],
     "prompt_number": 45
    },
    {
     "cell_type": "markdown",
     "metadata": {},
     "source": [
      "La cuesti\u00f3n aqu\u00ed est\u00e1 en que el polinomio p14 no tiene t\u00e9rmino con x a la uno."
     ]
    }
   ],
   "metadata": {}
  }
 ]
}