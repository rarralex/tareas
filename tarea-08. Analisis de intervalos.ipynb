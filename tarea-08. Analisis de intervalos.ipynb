{
 "metadata": {
  "kernelspec": {
   "display_name": "Julia 0.3.7-pre",
   "language": "julia",
   "name": "julia 0.3"
  },
  "language": "Julia",
  "language_info": {
   "name": "julia",
   "version": "0.3.7"
  },
  "name": "",
  "signature": "sha256:c67cdc46dbd34f04b2532a3dd9f4fc13c10a1c977f0132066c0f44c858166d6a"
 },
 "nbformat": 3,
 "nbformat_minor": 0,
 "worksheets": [
  {
   "cells": [
    {
     "cell_type": "markdown",
     "metadata": {},
     "source": [
      "# An\u00e1lisis de intervalos\n",
      "\n",
      "En el notebook anterior, entre otras cosas, hicieron su m\u00f3dulo para desarrollar la aritm\u00e9tica de intervalos, incluyendo adem\u00e1s algunas pruebas. El m\u00f3dulo permite hacer las operaciones b\u00e1sicas de intervalos, incluyendo las potencias. Adem\u00e1s, vimos que la manera en que uno opera los intervalos influye en la respuesta. Importante es notar que lo que se ha hecho hasta el momento sirve para funciones racionales de la forma $f(x) = p(x) / q(x)$, donde $p(x)$ y $q(x)$ son polinomios en $x$."
     ]
    },
    {
     "cell_type": "markdown",
     "metadata": {},
     "source": [
      "El prop\u00f3sito de este notebook es extender lo ya hecho a las *funciones est\u00e1ndares*, que son $\\exp(x)$ $\\log(x)$, las funciones trigonom\u00e9tricas ($\\sin(x)$, $\\cos(x)$, $\\tan(x)$, etc.), sus inversas ($\\arcsin(x)$, etc), y las hiperb\u00f3licas ($\\sinh(x)$, etc). Combinaciones utilizando las operaciones aritm\u00e9ticas que involucran las funciones est\u00e1ndares (y los polinomios) es lo que constituye a las *funciones elementales*."
     ]
    },
    {
     "cell_type": "markdown",
     "metadata": {},
     "source": [
      "## Extensi\u00f3n de funciones a intervalos\n",
      "\n",
      "Si $f(x)$ es una funci\u00f3n elemental *mon\u00f3tona*, su extensi\u00f3n a intervalos intuitivamente es: \n",
      "$F([a,b]) = [F(a),F(b)]$. \n",
      "\n",
      "Para las funciones mon\u00f3tonas est\u00e1ndares, el intervalo $F([a,b])$ que define la extensi\u00f3n de $f(x)$ al intervalo $[a,b]$ es lo que se llama la *extensi\u00f3n natural a intervalos*, ya que  corresponde a una *cota estrecha* del rango de $f(x)$ para $x\\in [a,b]$, que denotaremos $R(f; [a,b])$."
     ]
    },
    {
     "cell_type": "markdown",
     "metadata": {},
     "source": [
      "[1] Ampl\u00eda tu m\u00f3dulo de intervalos para que incluya la extensi\u00f3n de las funciones est\u00e1ndres mon\u00f3tonas a intervalos. En el caso de las potencias, exti\u00e9nde lo que ya hayas hecho para que incluya potencias reales. Incluye algunas pruebas en `pruebas.jl` que muestren que lo que has hecho funciona *bien*."
     ]
    },
    {
     "cell_type": "code",
     "collapsed": false,
     "input": [
      "using intervalos"
     ],
     "language": "python",
     "metadata": {},
     "outputs": [],
     "prompt_number": 21
    },
    {
     "cell_type": "code",
     "collapsed": false,
     "input": [
      "using diferenciacion_automatica"
     ],
     "language": "python",
     "metadata": {},
     "outputs": [],
     "prompt_number": 22
    },
    {
     "cell_type": "markdown",
     "metadata": {},
     "source": [
      "[2] \u00bfC\u00f3mo definir\u00edas la extensi\u00f3n a intervalos para funciones no mon\u00f3tonas? Repite [1] para este caso."
     ]
    },
    {
     "cell_type": "markdown",
     "metadata": {},
     "source": [
      "Veo en que intervalos son mon\u00f3tonas, y ah\u00ed lo defino como si fuera mon\u00f3tona. Para el caso del seno, segu\u00ed a Tucker."
     ]
    },
    {
     "cell_type": "markdown",
     "metadata": {},
     "source": [
      "[3] La extensi\u00f3n natural del intervalo para $f(x)=x/(1+x^2)$ es $F(\\mathbf{x})=\\mathbf{x}/(1+\\mathbf{x}^2)$. \u00bfCu\u00e1l es la extensi\u00f3n natural del intervalo para $\\mathbf{x}=[1,2]$? \u00bfC\u00f3mo se compara con el rango $R(f; [1,2])$. Ilustra los resultados con una gr\u00e1fica."
     ]
    },
    {
     "cell_type": "code",
     "collapsed": false,
     "input": [
      "f(x)=x/(1+x^2)"
     ],
     "language": "python",
     "metadata": {},
     "outputs": [
      {
       "metadata": {},
       "output_type": "pyout",
       "prompt_number": 23,
       "text": [
        "f (generic function with 1 method)"
       ]
      }
     ],
     "prompt_number": 23
    },
    {
     "cell_type": "code",
     "collapsed": false,
     "input": [
      "f(1)"
     ],
     "language": "python",
     "metadata": {},
     "outputs": [
      {
       "metadata": {},
       "output_type": "pyout",
       "prompt_number": 37,
       "text": [
        "0.5"
       ]
      }
     ],
     "prompt_number": 37
    },
    {
     "cell_type": "code",
     "collapsed": false,
     "input": [
      "f(2)"
     ],
     "language": "python",
     "metadata": {},
     "outputs": [
      {
       "metadata": {},
       "output_type": "pyout",
       "prompt_number": 38,
       "text": [
        "0.4"
       ]
      }
     ],
     "prompt_number": 38
    },
    {
     "cell_type": "code",
     "collapsed": false,
     "input": [
      "I1=Intervalo(1,2)"
     ],
     "language": "python",
     "metadata": {},
     "outputs": [
      {
       "metadata": {},
       "output_type": "pyout",
       "prompt_number": 24,
       "text": [
        "Intervalo(1e+00 with 256 bits of precision,2e+00 with 256 bits of precision)"
       ]
      }
     ],
     "prompt_number": 24
    },
    {
     "cell_type": "code",
     "collapsed": false,
     "input": [
      "I2=f(I1)"
     ],
     "language": "python",
     "metadata": {},
     "outputs": [
      {
       "metadata": {},
       "output_type": "pyout",
       "prompt_number": 53,
       "text": [
        "Intervalo(1.999999999999999999999999999999999999999999999999999999999999999999999999999983e-01 with 256 bits of precision,1e+00 with 256 bits of precision)"
       ]
      }
     ],
     "prompt_number": 53
    },
    {
     "cell_type": "code",
     "collapsed": false,
     "input": [
      "using PyPlot"
     ],
     "language": "python",
     "metadata": {},
     "outputs": [
      {
       "output_type": "stream",
       "stream": "stderr",
       "text": [
        "INFO: Loading help data...\n"
       ]
      }
     ],
     "prompt_number": 1
    },
    {
     "cell_type": "code",
     "collapsed": false,
     "input": [
      "fx=(-1:0.078125:5)"
     ],
     "language": "python",
     "metadata": {},
     "outputs": [
      {
       "metadata": {},
       "output_type": "pyout",
       "prompt_number": 34,
       "text": [
        "-1.0:0.078125:4.9375"
       ]
      }
     ],
     "prompt_number": 34
    },
    {
     "cell_type": "code",
     "collapsed": false,
     "input": [
      "b=(I2.sup-I2.inf)/3"
     ],
     "language": "python",
     "metadata": {},
     "outputs": [
      {
       "metadata": {},
       "output_type": "pyout",
       "prompt_number": 88,
       "text": [
        "2.666666666666666666666666666666666666666666666666666666666666666666666666666687e-01 with 256 bits of precision"
       ]
      }
     ],
     "prompt_number": 88
    },
    {
     "cell_type": "code",
     "collapsed": false,
     "input": [
      "fy=zeros(Float64,length(fx))\n",
      "interx=(1:0.078125:2)\n",
      "intery=zeros(Float64,length(interx))\n",
      "finterx=(f(2):0.078125:f(1))\n",
      "lineasy1=(0:0.078125:f(1))\n",
      "lineasx1=Float64[]\n",
      "for i in 1:length(lineasy1)\n",
      "    push!(lineasx1,1)\n",
      "end\n",
      "\n",
      "lineasy2=(0:0.078125:f(2))\n",
      "lineasx2=Float64[]\n",
      "for i in 1:length(lineasy2)\n",
      "    push!(lineasx2,2)\n",
      "end\n",
      "\n",
      "lineasx3=(0:0.078125:1)\n",
      "lineasy3=Float64[]\n",
      "for i in 1:length(lineasx3)\n",
      "    push!(lineasy3,f(1))\n",
      "end\n",
      "\n",
      "lineasx4=(0:0.078125:2)\n",
      "lineasy4=Float64[]\n",
      "for i in 1:length(lineasx4)\n",
      "    push!(lineasy4,f(2))\n",
      "end\n",
      "\n",
      "rangoy=(f(2):0.078125:f(1))\n",
      "rangox=Float64[]\n",
      "for i in 1:length(rangoy)\n",
      "    push!(rangox,0)\n",
      "end\n",
      "\n",
      "b=(1-0.2)/10\n",
      "yy=(0.2:b:1)\n",
      "xx=Float64[]\n",
      "for i in 1:length(yy)\n",
      "    push!(xx,-0.5)\n",
      "end\n",
      "\n",
      "for i in 1:length(fx)\n",
      "    fy[i]=f(fx[i])\n",
      "end\n",
      "PyPlot.plot(fx,fy,\"r\",linewidth=1)\n",
      "PyPlot.plot(interx,intery,\"b\",linewidth=1)\n",
      "PyPlot.plot(lineasx1,lineasy1, \"black\", linestyle=\"--\")\n",
      "PyPlot.plot(lineasx2,lineasy2, \"black\", linestyle=\"--\")\n",
      "PyPlot.plot(lineasx3,lineasy3, \"black\", linestyle=\"--\")\n",
      "PyPlot.plot(lineasx4,lineasy4, \"black\", linestyle=\"--\")\n",
      "PyPlot.plot(rangox,rangoy,\"b\",linewidth=1)\n",
      "PyPlot.plot(xx,yy,\"r\",linewidth=1)\n",
      "    \n"
     ],
     "language": "python",
     "metadata": {},
     "outputs": [
      {
       "metadata": {},
       "output_type": "display_data",
       "png": "[encoded data removed]",
       "text": [
        "Figure(PyObject <matplotlib.figure.Figure object at 0x7f485392ffd0>)"
       ]
      },
      {
       "metadata": {},
       "output_type": "pyout",
       "prompt_number": 119,
       "text": [
        "1-element Array{Any,1}:\n",
        " PyObject <matplotlib.lines.Line2D object at 0x7f48537b4290>"
       ]
      }
     ],
     "prompt_number": 119
    },
    {
     "cell_type": "markdown",
     "metadata": {},
     "source": [
      "El **Teorema Fundamental del An\u00e1lisis de Intervalos** afirma que dada una funci\u00f3n *elemental* $f(x)$ y una extensi\u00f3n natural a intervalos $F$, tal que $F(\\mathbf{x})$ est\u00e1 bien definida para alg\u00fan intervalo $\\mathbf{x}$, entonces:\n",
      "\n",
      "1. Si $\\mathbf{z} \\subseteq \\mathbf{z'} \\subseteq \\mathbf{x} \\Longrightarrow F(\\mathbf{z}) \\subseteq F(\\mathbf{z'}),\\quad$ \"inclusi\u00f3n isot\u00f3nica\" (*inclusion isotonicity*)\n",
      "\n",
      "2. $R(f;\\mathbf{x}) \\subseteq F(\\mathbf{x}),\\quad$ \"acotamiento del rango\" (*range enclosure*)\n"
     ]
    },
    {
     "cell_type": "markdown",
     "metadata": {},
     "source": [
      "La segunda propiedad afirma que la extensi\u00f3n natural $F(\\mathbf{x})$ contiene al rango, lo que entonces acota el rango de $f(x)$ con $F(\\mathbf{x})$. \n",
      "\n",
      "De aqu\u00ed, dado que si $y\\notin F(\\mathbf{x}) \\Longrightarrow y\\notin R(f;\\mathbf{x})$, entonces podemos usar este resultado cuando se buscan las ra\u00edces de alguna funci\u00f3n $f(x)$ en un intervalo: Si $ 0 \\notin F(\\mathbf{x})$ entonces $f(x)$ **no** tiene ra\u00edces en $\\mathbf{x}$."
     ]
    },
    {
     "cell_type": "markdown",
     "metadata": {},
     "source": [
      "[4] Demuestra que $f(x) = (\\sin(x)-x^2+1)\\cos(x)$ no tiene ra\u00edces en $\\mathbf{x}=[0,1/2]$. Ilustra que el argumento es correcto gr\u00e1ficamente."
     ]
    },
    {
     "cell_type": "markdown",
     "metadata": {},
     "source": [
      "Basta demostrar que el cero no est\u00e1 en f([0,1/2])"
     ]
    },
    {
     "cell_type": "code",
     "collapsed": false,
     "input": [
      "f(x)=(sin(x)-x^2+1)*cos(x)"
     ],
     "language": "python",
     "metadata": {},
     "outputs": [
      {
       "metadata": {},
       "output_type": "pyout",
       "prompt_number": 6,
       "text": [
        "f (generic function with 1 method)"
       ]
      }
     ],
     "prompt_number": 6
    },
    {
     "cell_type": "code",
     "collapsed": false,
     "input": [
      "x=Intervalo(0,1/2)"
     ],
     "language": "python",
     "metadata": {},
     "outputs": [
      {
       "metadata": {},
       "output_type": "pyout",
       "prompt_number": 7,
       "text": [
        "Intervalo(0e+00 with 256 bits of precision,5e-01 with 256 bits of precision)"
       ]
      }
     ],
     "prompt_number": 7
    },
    {
     "cell_type": "code",
     "collapsed": false,
     "input": [
      "f(x)"
     ],
     "language": "python",
     "metadata": {},
     "outputs": [
      {
       "metadata": {},
       "output_type": "pyout",
       "prompt_number": 8,
       "text": [
        "Intervalo(6.581869214177795440022012570166822692484976187341949519055490493532230475720868e-01 with 256 bits of precision,1.479425538604203000273287935215571388081803367940600675188616613125535000287833e+00 with 256 bits of precision)"
       ]
      }
     ],
     "prompt_number": 8
    },
    {
     "cell_type": "markdown",
     "metadata": {},
     "source": [
      "Que claramente, no contiene al cero"
     ]
    },
    {
     "cell_type": "code",
     "collapsed": false,
     "input": [
      "0 in f(x)"
     ],
     "language": "python",
     "metadata": {},
     "outputs": [
      {
       "metadata": {},
       "output_type": "pyout",
       "prompt_number": 9,
       "text": [
        "false"
       ]
      }
     ],
     "prompt_number": 9
    },
    {
     "cell_type": "heading",
     "level": 2,
     "metadata": {
      "collapsed": true
     },
     "source": [
      "Rutina para encontrar ra\u00edces de una funci\u00f3n"
     ]
    },
    {
     "cell_type": "markdown",
     "metadata": {},
     "source": [
      "Ya hemos llegado al punto de poder resolver el siguiente problema:\n",
      "\n",
      "> Dada una funci\u00f3n $f(x)$ y un intervalo $X$, encuentra las ra\u00edces de $f$ dentro de $X$."
     ]
    },
    {
     "cell_type": "markdown",
     "metadata": {},
     "source": [
      "[5] Escribe un c\u00f3digo quer utiliza la propiedad de los ceros para encontrar los intervalos donde *podr\u00eda haber* un cero."
     ]
    },
    {
     "cell_type": "markdown",
     "metadata": {},
     "source": [
      "Antes, necesito definir una funci\u00f3n con dos metodos"
     ]
    },
    {
     "cell_type": "code",
     "collapsed": false,
     "input": [
      "function signo(x)\n",
      "    if x == abs(x)\n",
      "        return 1\n",
      "    else\n",
      "        return -1\n",
      "    end\n",
      "end"
     ],
     "language": "python",
     "metadata": {},
     "outputs": [
      {
       "metadata": {},
       "output_type": "pyout",
       "prompt_number": 10,
       "text": [
        "signo (generic function with 1 method)"
       ]
      }
     ],
     "prompt_number": 10
    },
    {
     "cell_type": "code",
     "collapsed": false,
     "input": [
      "function signo(A::Intervalo)\n",
      "    if A.inf>0\n",
      "        return 1\n",
      "    end\n",
      "    if A.sup<0\n",
      "        return -1\n",
      "    end\n",
      "end"
     ],
     "language": "python",
     "metadata": {},
     "outputs": [
      {
       "metadata": {},
       "output_type": "pyout",
       "prompt_number": 11,
       "text": [
        "signo (generic function with 2 methods)"
       ]
      }
     ],
     "prompt_number": 11
    },
    {
     "cell_type": "code",
     "collapsed": false,
     "input": [
      "function raices1(g::Function,I1::Intervalo,n::Int)\n",
      "    m=50 #capacidad para detectar raices. Si se espera que en el intervalo inicial dado, la funci\u00f3n\n",
      "    # tenga muchas raices, entonces m debe ser grande.\n",
      "    Raices=Intervalo[]\n",
      "       I=Intervalo[]\n",
      "           push!(I,I1)\n",
      "    if ((0 in g(I1))==false)\n",
      "            println(\"La funci\u00f3n no tiene raices en este intervalo\")\n",
      "    else  \n",
      "    for i in 1:n\n",
      "        seg=segmentar(I[i],m)\n",
      "        for j in 1:m\n",
      "            if ((0 in g(seg[j]))&&((signo(g(seg[j].inf))*signo(g(seg[j].sup)))<0))\n",
      "                push!(I,seg[j])\n",
      "            end\n",
      "       end\n",
      "    end\n",
      "    \n",
      "    k=1\n",
      "    for i in n:-1:1\n",
      "        if (I[n]\u2286I[i-1])\n",
      "            break\n",
      "        else\n",
      "        k+=1\n",
      "        end\n",
      "    end\n",
      "    k==1 ? println(\"la funci\u00f3n tiene una ra\u00edz en este intervalo\") : println(\"la funci\u00f3n tiene $k raices en este intervalo\")\n",
      "\n",
      "    for i in n-k+1:n\n",
      "        push!(Raices,I[i])\n",
      "    end\n",
      "    return Raices\n",
      "    end\n",
      "end"
     ],
     "language": "python",
     "metadata": {},
     "outputs": [
      {
       "metadata": {},
       "output_type": "pyout",
       "prompt_number": 12,
       "text": [
        "raices1 (generic function with 1 method)"
       ]
      }
     ],
     "prompt_number": 12
    },
    {
     "cell_type": "code",
     "collapsed": false,
     "input": [
      "raices1(f,x,100)"
     ],
     "language": "python",
     "metadata": {},
     "outputs": [
      {
       "output_type": "stream",
       "stream": "stdout",
       "text": [
        "La funci\u00f3n no tiene raices en este intervalo\n"
       ]
      }
     ],
     "prompt_number": 13
    },
    {
     "cell_type": "code",
     "collapsed": false,
     "input": [
      "f1(x)=x^3-6*x^2+11*x-6"
     ],
     "language": "python",
     "metadata": {},
     "outputs": [
      {
       "metadata": {},
       "output_type": "pyout",
       "prompt_number": 14,
       "text": [
        "f1 (generic function with 1 method)"
       ]
      }
     ],
     "prompt_number": 14
    },
    {
     "cell_type": "code",
     "collapsed": false,
     "input": [
      "I1=Intervalo(0,4)"
     ],
     "language": "python",
     "metadata": {},
     "outputs": [
      {
       "metadata": {},
       "output_type": "pyout",
       "prompt_number": 15,
       "text": [
        "Intervalo(0e+00 with 256 bits of precision,4e+00 with 256 bits of precision)"
       ]
      }
     ],
     "prompt_number": 15
    },
    {
     "cell_type": "code",
     "collapsed": false,
     "input": [
      "raices1(f1,I1,100)"
     ],
     "language": "python",
     "metadata": {},
     "outputs": [
      {
       "output_type": "stream",
       "stream": "stdout",
       "text": [
        "la funci\u00f3n tiene 3 raices en este intervalo\n"
       ]
      },
      {
       "metadata": {},
       "output_type": "pyout",
       "prompt_number": 16,
       "text": [
        "3-element Array{Intervalo,1}:\n",
        " Intervalo(9.999999999999999999999999999999999999999999999999999999656402616320000000000005e-01 with 256 bits of precision,1.000000000000000000000000000000000000000000000000000000000000000000000000000017e+00 with 256 bits of precision)\n",
        " Intervalo(1.999999999999999999999999999999999999999999999999999999999999999999999999999983e+00 with 256 bits of precision,2.000000000000000000000000000000000000000000000000000000034359738368000000000008e+00 with 256 bits of precision)\n",
        " Intervalo(2.999999999999999999999999999999999999999999999999999999965640261631999999999992e+00 with 256 bits of precision,3e+00 with 256 bits of precision)                                                                               "
       ]
      }
     ],
     "prompt_number": 16
    },
    {
     "cell_type": "markdown",
     "metadata": {},
     "source": [
      "[6] Extiende tu c\u00f3digo para utilizar la derivada $f'$, dada a mano, para demostrar (cuando se puede) que el cero es *\u00fanico* en el intervalo."
     ]
    },
    {
     "cell_type": "code",
     "collapsed": false,
     "input": [
      "function raices2(g::Function,gd::Function,I1::Intervalo,n::Int)\n",
      "    m=10 #capacidad para detectar raices. Si se espera que en el intervalo inicial dado, la funci\u00f3n\n",
      "    # tenga muchas raices, entonces m debe ser grande.\n",
      "    Raices=Intervalo[]\n",
      "       I=Intervalo[]\n",
      "           push!(I,I1)\n",
      "           for i in 1:n\n",
      "                if (i==2 && length(I)==1)\n",
      "            println(\"La funci\u00f3n no tiene raices en este intervalo\")\n",
      "                    break\n",
      "                end\n",
      "           seg=segmentar(I[i],m)\n",
      "               for j in 1:m\n",
      "                   if ((0 in g(seg[j]))&&((signo(g(seg[j].inf))*signo(g(seg[j].sup)))<0))\n",
      "                   push!(I,seg[j])\n",
      "                   end\n",
      "               end\n",
      "           end\n",
      "    k=1\n",
      "    for i in n:-1:1\n",
      "        if (I[n]\u2286I[i-1])\n",
      "            break\n",
      "        else\n",
      "        k+=1\n",
      "        end\n",
      "    end\n",
      "     k==1 ? println(\"la funci\u00f3n tiene $k ra\u00edz en este intervalo\") : println(\"la funci\u00f3n tiene $k raices en este intervalo\")\n",
      "   # println(\"la funci\u00f3n tiene $k raices en este intervalo\")\n",
      "      # return I\n",
      "    for i in n-k+1:n\n",
      "        push!(Raices,I[i])\n",
      "        if signo(gd(I[i]))==1\n",
      "            println(\"La raiz es \u00fanica en $(I[i])\")\n",
      "        end\n",
      "    end\n",
      "    return Raices\n",
      "end\n"
     ],
     "language": "python",
     "metadata": {},
     "outputs": [
      {
       "metadata": {},
       "output_type": "pyout",
       "prompt_number": 17,
       "text": [
        "raices2 (generic function with 1 method)"
       ]
      }
     ],
     "prompt_number": 17
    },
    {
     "cell_type": "code",
     "collapsed": false,
     "input": [
      "f1p(x)=3*x^2-12*x+11"
     ],
     "language": "python",
     "metadata": {},
     "outputs": [
      {
       "metadata": {},
       "output_type": "pyout",
       "prompt_number": 18,
       "text": [
        "f1p (generic function with 1 method)"
       ]
      }
     ],
     "prompt_number": 18
    },
    {
     "cell_type": "code",
     "collapsed": false,
     "input": [
      "raices2(f1,f1p,I1,100)"
     ],
     "language": "python",
     "metadata": {},
     "outputs": [
      {
       "output_type": "stream",
       "stream": "stdout",
       "text": [
        "la funci\u00f3n tiene 4 raices en este intervalo\n"
       ]
      },
      {
       "output_type": "stream",
       "stream": "stdout",
       "text": [
        "La raiz es \u00fanica en Intervalo(9.99999999999999999999999600000000000000000000000000000000000000000000000000014e-01 with 256 bits of precision,1.000000000000000000000000000000000000000000000000000000000000000000000000000017e+00 with 256 bits of precision)\n",
        "La raiz es \u00fanica en Intervalo(2.999999999999999999999999599999999999999999999999999999999999999999999999999945e+00 with 256 bits of precision,3e+00 with 256 bits of precision)\n",
        "La raiz es \u00fanica en Intervalo(2.999999999999999999999999999999999999999999999999999999999999999999999999999931e+00 with 256 bits of precision,3.000000000000000000000000399999999999999999999999999999999999999999999999999986e+00 with 256 bits of precision)\n"
       ]
      },
      {
       "metadata": {},
       "output_type": "pyout",
       "prompt_number": 19,
       "text": [
        "4-element Array{Intervalo,1}:\n",
        " Intervalo(9.99999999999999999999999600000000000000000000000000000000000000000000000000014e-01 with 256 bits of precision,1.000000000000000000000000000000000000000000000000000000000000000000000000000017e+00 with 256 bits of precision) \n",
        " Intervalo(2e+00 with 256 bits of precision,2.000000000000000000000000400000000000000000000000000000000000000000000000000055e+00 with 256 bits of precision)                                                                               \n",
        " Intervalo(2.999999999999999999999999599999999999999999999999999999999999999999999999999945e+00 with 256 bits of precision,3e+00 with 256 bits of precision)                                                                               \n",
        " Intervalo(2.999999999999999999999999999999999999999999999999999999999999999999999999999931e+00 with 256 bits of precision,3.000000000000000000000000399999999999999999999999999999999999999999999999999986e+00 with 256 bits of precision)"
       ]
      }
     ],
     "prompt_number": 19
    },
    {
     "cell_type": "markdown",
     "metadata": {},
     "source": [
      "Me repitio un paso de una raiz, pero no es muy grave."
     ]
    },
    {
     "cell_type": "markdown",
     "metadata": {},
     "source": [
      "[7] Utiliza la *diferenciaci\u00f3n autom\u00e1tica* del notebook 6 para que no tengas que especificar la derivada a mano."
     ]
    },
    {
     "cell_type": "code",
     "collapsed": false,
     "input": [
      "function raices6(g::Function,I1::Intervalo,n::Int)\n",
      "    m=10 #capacidad para detectar raices. Si se espera que en el intervalo inicial dado, la funci\u00f3n\n",
      "    # tenga muchas raices, entonces m debe ser grande.\n",
      "    Raices=Intervalo[]\n",
      "       I=Intervalo[]\n",
      "           push!(I,I1)\n",
      "           for i in 1:n\n",
      "                if (i==2 && length(I)==1)\n",
      "            println(\"La funci\u00f3n no tiene raices en este intervalo\")\n",
      "                    break\n",
      "                end\n",
      "           seg=segmentar(I[i],m)\n",
      "               for j in 1:m\n",
      "                   if ((0 in g(seg[j]))&&((signo(g(seg[j].inf))*signo(g(seg[j].sup)))<0))\n",
      "                   push!(I,seg[j])\n",
      "                   end\n",
      "               end\n",
      "           end\n",
      "    k=1\n",
      "    for i in n:-1:1\n",
      "        if (I[n]\u2286I[i-1])\n",
      "            break\n",
      "        else\n",
      "        k+=1\n",
      "        end\n",
      "    end\n",
      "     k==1 ? println(\"la funci\u00f3n tiene $k ra\u00edz en este intervalo\") : println(\"la funci\u00f3n tiene $k raices en este intervalo\")\n",
      "   # println(\"la funci\u00f3n tiene $k raices en este intervalo\")\n",
      "      # return I\n",
      "    for i in n-k+1:n\n",
      "        push!(Raices,I[i])\n",
      "        y=EvaluarDerivar(I[i],1)\n",
      "        if signo(g(y).der)==1\n",
      "            println(\"La raiz es \u00fanica en $(I[i])\")\n",
      "        end\n",
      "    end\n",
      "    return Raices\n",
      "end\n"
     ],
     "language": "python",
     "metadata": {},
     "outputs": [
      {
       "metadata": {},
       "output_type": "pyout",
       "prompt_number": 20,
       "text": [
        "raices6 (generic function with 1 method)"
       ]
      }
     ],
     "prompt_number": 20
    },
    {
     "cell_type": "code",
     "collapsed": false,
     "input": [
      "raices6(f1,I1,100)"
     ],
     "language": "python",
     "metadata": {},
     "outputs": [
      {
       "output_type": "stream",
       "stream": "stdout",
       "text": [
        "la funci\u00f3n tiene 4 raices en este intervalo\n"
       ]
      },
      {
       "output_type": "stream",
       "stream": "stdout",
       "text": [
        "La raiz es \u00fanica en Intervalo(9.99999999999999999999999600000000000000000000000000000000000000000000000000014e-01 with 256 bits of precision,1.000000000000000000000000000000000000000000000000000000000000000000000000000017e+00 with 256 bits of precision)\n",
        "La raiz es \u00fanica en Intervalo(2.999999999999999999999999599999999999999999999999999999999999999999999999999945e+00 with 256 bits of precision,3e+00 with 256 bits of precision)\n",
        "La raiz es \u00fanica en Intervalo(2.999999999999999999999999999999999999999999999999999999999999999999999999999931e+00 with 256 bits of precision,3.000000000000000000000000399999999999999999999999999999999999999999999999999986e+00 with 256 bits of precision)\n"
       ]
      },
      {
       "metadata": {},
       "output_type": "pyout",
       "prompt_number": 21,
       "text": [
        "4-element Array{Intervalo,1}:\n",
        " Intervalo(9.99999999999999999999999600000000000000000000000000000000000000000000000000014e-01 with 256 bits of precision,1.000000000000000000000000000000000000000000000000000000000000000000000000000017e+00 with 256 bits of precision) \n",
        " Intervalo(2e+00 with 256 bits of precision,2.000000000000000000000000400000000000000000000000000000000000000000000000000055e+00 with 256 bits of precision)                                                                               \n",
        " Intervalo(2.999999999999999999999999599999999999999999999999999999999999999999999999999945e+00 with 256 bits of precision,3e+00 with 256 bits of precision)                                                                               \n",
        " Intervalo(2.999999999999999999999999999999999999999999999999999999999999999999999999999931e+00 with 256 bits of precision,3.000000000000000000000000399999999999999999999999999999999999999999999999999986e+00 with 256 bits of precision)"
       ]
      }
     ],
     "prompt_number": 21
    },
    {
     "cell_type": "code",
     "collapsed": false,
     "input": [],
     "language": "python",
     "metadata": {},
     "outputs": []
    }
   ],
   "metadata": {}
  }
 ]
}