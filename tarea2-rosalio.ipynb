{
 "metadata": {
  "language": "Julia",
  "name": "",
  "signature": "sha256:13859116c473f409ec658e9b530b71a7eb83e516428673848731dda4e841bb96"
 },
 "nbformat": 3,
 "nbformat_minor": 0,
 "worksheets": [
  {
   "cells": [
    {
     "cell_type": "heading",
     "level": 1,
     "metadata": {},
     "source": [
      "N\u00fameros enteros"
     ]
    },
    {
     "cell_type": "heading",
     "level": 4,
     "metadata": {},
     "source": [
      "[1] Pensemos en el entero n=314159. Sus d\u00edgitos son $a_5=3, a_4=1, ..., a_0=9.$ Escribe n en t\u00e9rminos de potencias de 10. Podemos escribir $314159_{10}$ para enfatizar la base."
     ]
    },
    {
     "cell_type": "markdown",
     "metadata": {},
     "source": [
      "n= $\\sum_{i=0}^{5} a_i \\times 10^{i}$"
     ]
    },
    {
     "cell_type": "heading",
     "level": 4,
     "metadata": {},
     "source": [
      "[2] La computadora trabaja en t\u00e9rminos de d\u00edgitos binarios, o bits, que pueden tomar s\u00f3lo el valor 0 o 1, y por lo tanto representa los n\u00fameros en base 2. Cu\u00e1l es la representaci\u00f3n en base 2 (binario) del n\u00famero $n=50_{10}$?"
     ]
    },
    {
     "cell_type": "markdown",
     "metadata": {},
     "source": [
      " \"110010\"; abajo se dice como se calcula"
     ]
    },
    {
     "cell_type": "heading",
     "level": 4,
     "metadata": {},
     "source": [
      "[3] (i) Escribe una funci\u00f3n que acepta una cadena en binario y regresa el entero correspondiente."
     ]
    },
    {
     "cell_type": "markdown",
     "metadata": {},
     "source": [
      "   Primero, dado un n\u00famero $(x_n...x_2 x_1 x_0)_2$, $x_i \\in {0,1}$, su representaci\u00f3n decimal es\n",
      "   \\begin{equation}\n",
      "   \\sum_{i=0}^{n} 2^{i} x_i. \\  \\  \\  \\  \\  \\  \\     \\   \\     (1)\n",
      "   \\end{equation}\n",
      "   La funci\u00f3n bd1 (binario-decimal-1) hace justamente esa suma. Acepta una cadena, que tiene n+1 elementos (porque Julia cuenta desde 1), los suma seg\u00fan la regla anterior.\n",
      "   "
     ]
    },
    {
     "cell_type": "code",
     "collapsed": false,
     "input": [
      "#Acepta cadena de binarios (sin punto binario) y regresa un entero\n",
      "function bd1(x::ASCIIString) \n",
      "    suma=0  \n",
      "    for i in 1:length(x)\n",
      "        suma+= (2^(length(x)-i))*(int(x[i])-48) # se le resta 48 porque int('1') es 49, e int('0') \n",
      "        #es 48 y lo que se desea es asociar '1' con el entero 1, y '0' con 0.\n",
      "    end\n",
      "    suma\n",
      "    end"
     ],
     "language": "python",
     "metadata": {},
     "outputs": [
      {
       "metadata": {},
       "output_type": "pyout",
       "prompt_number": 1,
       "text": [
        "bd1 (generic function with 1 method)"
       ]
      }
     ],
     "prompt_number": 1
    },
    {
     "cell_type": "heading",
     "level": 5,
     "metadata": {},
     "source": [
      "Pruebas"
     ]
    },
    {
     "cell_type": "code",
     "collapsed": false,
     "input": [
      "bd1(\"10\")"
     ],
     "language": "python",
     "metadata": {},
     "outputs": [
      {
       "metadata": {},
       "output_type": "pyout",
       "prompt_number": 2,
       "text": [
        "2"
       ]
      }
     ],
     "prompt_number": 2
    },
    {
     "cell_type": "code",
     "collapsed": false,
     "input": [
      "bd1(\"1101011011\")"
     ],
     "language": "python",
     "metadata": {},
     "outputs": [
      {
       "metadata": {},
       "output_type": "pyout",
       "prompt_number": 3,
       "text": [
        "859"
       ]
      }
     ],
     "prompt_number": 3
    },
    {
     "cell_type": "code",
     "collapsed": false,
     "input": [
      "bits(ans)"
     ],
     "language": "python",
     "metadata": {},
     "outputs": [
      {
       "metadata": {},
       "output_type": "pyout",
       "prompt_number": 4,
       "text": [
        "\"0000000000000000000000000000000000000000000000000000001101011011\""
       ]
      }
     ],
     "prompt_number": 4
    },
    {
     "cell_type": "heading",
     "level": 4,
     "metadata": {},
     "source": [
      "(ii) Escribe una funci\u00f3n que acepta un entero y regresa su representaci\u00f3n en binario como una cadena. Comprueba tu respuesta usando la funci\u00f3n bits de Julia."
     ]
    },
    {
     "cell_type": "markdown",
     "metadata": {},
     "source": [
      "La representaci\u00f3n binaria de un entero se puede calcular de la siguiente manera: Sea $N_{10}$ un entero en base 10. Entonces se procede a dividirlo sistem\u00e1ticamente entre 2; hay que parar cuando el cociente deje de ser entero. En realidad lo que se hace es dividir la suma (1) entre 2 para ir sacando los $x_i$. Por ejemplo:\n",
      "\n",
      "N/2 = $x_1 + 2 x_2 + ... + 2^{n-1}x_n$ con residuo $x_0$\n",
      "\n",
      "N/2/2 = $ x_2 + ... + 2^{n-2}x_n$ con residuo $x_1$\n",
      "\n",
      "y as\u00ed sucesivamente. De manera que el primer t\u00e9rmino de la representaci\u00f3n binaria ser\u00e1 el \u00faltimo residuo, y de ah\u00ed para arriba."
     ]
    },
    {
     "cell_type": "code",
     "collapsed": false,
     "input": [
      "#Esta funci\u00f3n acepta enteros positivos y devuelve una cadena\n",
      "function db1(n)\n",
      "       a=Int64[]\n",
      "       b=Int64[]\n",
      "    while(floor(n/2)>=1) #se calculan los residuos y se guardan en a\n",
      "                      push!(a,n%2)\n",
      "              n=div(n,2)\n",
      "              end\n",
      "    push!(a,floor(n))  #como se para un paso antes, hay que meterle el valor entero m\u00e1s chico del cociente\n",
      "    for i in 1:length(a)  # se cambia el orden de las entradas\n",
      "                   push!(b,a[length(a)+1-i])\n",
      "                   end\n",
      "   # m=64-length(b) #se le agregan al principio los ceros que faltan para que su longitud sea 64\n",
      "   # for i in 1:m\n",
      "   #    unshift!(b,0)\n",
      "   # end\n",
      "    return join(b) #para que me mande una cadena\n",
      "       end"
     ],
     "language": "python",
     "metadata": {},
     "outputs": [
      {
       "metadata": {},
       "output_type": "pyout",
       "prompt_number": 5,
       "text": [
        "db1 (generic function with 1 method)"
       ]
      }
     ],
     "prompt_number": 5
    },
    {
     "cell_type": "markdown",
     "metadata": {},
     "source": [
      "Le quit\u00e9 los ceros (que van adelante y que hace la longitud igual a 64) porque voy a usar esta funci\u00f3n m\u00e1s abajo, y no me gust\u00f3 como se ve\u00eda el resultado"
     ]
    },
    {
     "cell_type": "heading",
     "level": 4,
     "metadata": {},
     "source": [
      "Pruebas"
     ]
    },
    {
     "cell_type": "code",
     "collapsed": false,
     "input": [
      "db1(12345)"
     ],
     "language": "python",
     "metadata": {},
     "outputs": [
      {
       "metadata": {},
       "output_type": "pyout",
       "prompt_number": 6,
       "text": [
        "\"11000000111001\""
       ]
      }
     ],
     "prompt_number": 6
    },
    {
     "cell_type": "code",
     "collapsed": false,
     "input": [
      "bits(12345)"
     ],
     "language": "python",
     "metadata": {},
     "outputs": [
      {
       "metadata": {},
       "output_type": "pyout",
       "prompt_number": 7,
       "text": [
        "\"0000000000000000000000000000000000000000000000000011000000111001\""
       ]
      }
     ],
     "prompt_number": 7
    },
    {
     "cell_type": "heading",
     "level": 1,
     "metadata": {},
     "source": [
      "Reales"
     ]
    },
    {
     "cell_type": "heading",
     "level": 4,
     "metadata": {},
     "source": [
      "[4] Escribe el n\u00famero p=31.4159 en t\u00e9rminos de potencias de 10. \u00bfC\u00f3mo podemos llamar a los d\u00edgitos para que la expresi\u00f3n quede bonita?"
     ]
    },
    {
     "cell_type": "markdown",
     "metadata": {},
     "source": [
      "Entend\u00ed mal esta pregunta, al principio. Entonces hice un programa que dado un n\u00famero \"real\" p, como cadena (por eso pongo comillas), te devuelve la expresi\u00f3n en t\u00e9rminos de potencias (como cadena). \n",
      "\n",
      "En realidad, ya no termin\u00e9 la funci\u00f3n. La anexo nom\u00e1s por que ya la hice. Cuando la quise hacer funci\u00f3n, ingenuamente metiendo todo el c\u00f3digo dentro de function end, ya no me daba bien los resultados. Si quitan los dos comentarios iniciales y el final, la funci\u00f3n no da buenos resultados."
     ]
    },
    {
     "cell_type": "code",
     "collapsed": false,
     "input": [
      "p=\"34.006765\""
     ],
     "language": "python",
     "metadata": {},
     "outputs": [
      {
       "metadata": {},
       "output_type": "pyout",
       "prompt_number": 8,
       "text": [
        "\"34.006765\""
       ]
      }
     ],
     "prompt_number": 8
    },
    {
     "cell_type": "code",
     "collapsed": false,
     "input": [
      "#function representaciondec(x)\n",
      " #   p=\"$x\"\n",
      "    f=UTF8String[] #la defin\u00ed de esta forma por el signo \u00d7\n",
      "n=-1\n",
      "for i in 1:length(p)  #localizo el punto\n",
      "    n+=1\n",
      "        if p[i]=='.'\n",
      "        return n\n",
      "    end\n",
      "end\n",
      "\n",
      "for i in 1:length(p)\n",
      "    if i<=n\n",
      "        push!(f,\"$(p[i])\u00d710^$(n-i) + \")\n",
      "    end\n",
      "    if i>n \n",
      "        if i==length(p)\n",
      "            push!(f,\"$(p[i])\u00d710^$(n+1-i)\")\n",
      "        else \n",
      "        push!(f,\"$(p[i])\u00d710^$(n+1-i) + \")\n",
      "    end\n",
      "    end\n",
      "end\n",
      "return join(f)\n",
      "#end"
     ],
     "language": "python",
     "metadata": {},
     "outputs": [
      {
       "metadata": {},
       "output_type": "pyout",
       "prompt_number": 9,
       "text": [
        "\"3\u00d710^1 + 4\u00d710^0 + .\u00d710^0 + 0\u00d710^-1 + 0\u00d710^-2 + 6\u00d710^-3 + 7\u00d710^-4 + 6\u00d710^-5 + 5\u00d710^-6\""
       ]
      }
     ],
     "prompt_number": 9
    },
    {
     "cell_type": "heading",
     "level": 4,
     "metadata": {},
     "source": [
      "[5] La computadora trabaja en t\u00e9rminos de potencias de 2. "
     ]
    },
    {
     "cell_type": "heading",
     "level": 4,
     "metadata": {},
     "source": [
      "(i) \u00bfCu\u00e1l es el valor del n\u00famero $101.0101_2$? Aqu\u00ed hemos utilizado un \"punto binario\"."
     ]
    },
    {
     "cell_type": "markdown",
     "metadata": {},
     "source": [
      "5.3125; calculado abajo"
     ]
    },
    {
     "cell_type": "heading",
     "level": 4,
     "metadata": {},
     "source": [
      "(ii) Escribe una funci\u00f3n que toma una cadena en binario que incluya un punto y regresa el n\u00famero correspondiente."
     ]
    },
    {
     "cell_type": "markdown",
     "metadata": {},
     "source": [
      "La funci\u00f3n tiene un peque\u00f1o \"problema\". Redondea el resultado cuando los decimales son muy largos; aunque el c\u00e1lculo lo hace bien. Por eso imprimo las partes entera y decimal por separado. \n",
      "\n",
      "Y si le pongo big no funciona porque big le pone al final decimales que no ten\u00eda.  Por ejemplo: "
     ]
    },
    {
     "cell_type": "code",
     "collapsed": false,
     "input": [
      "big(0.1)"
     ],
     "language": "python",
     "metadata": {},
     "outputs": [
      {
       "metadata": {},
       "output_type": "pyout",
       "prompt_number": 10,
       "text": [
        "1.000000000000000055511151231257827021181583404541015625e-01 with 256 bits of precision"
       ]
      }
     ],
     "prompt_number": 10
    },
    {
     "cell_type": "code",
     "collapsed": false,
     "input": [
      "#esta funci\u00f3n acepta una cadena con punto binario y devuelve float64\n",
      "function bindec(x::ASCIIString)\n",
      "    n=Int64[]\n",
      "    suma1=0\n",
      "    suma2=0.0\n",
      "    n= search(x,'.')  #calcula la representaci\u00f3n de la parte entera\n",
      "    for i in 1:length(x)\n",
      "        if i<n\n",
      "        suma1+= (2.0^(n-1-i))*(int(x[i])-48)\n",
      "        end\n",
      "        \n",
      "        if i>n #calcula la representaci\u00f3n de la parte decimal\n",
      "        suma2+= (2.0^(-i+n))*(int(x[i])-48)\n",
      "        end\n",
      "    end\n",
      "    #y1=big(suma1)\n",
      "    #y2= big(suma2)\n",
      "   # y3=y1+y2\n",
      "    println(\"parte entera= $suma1, parte decimal=$suma2, pero el resultado (Float 64) es el de abajo\") #$y1, $y2, $y3)\"\n",
      "    suma1 + suma2\n",
      "    end"
     ],
     "language": "python",
     "metadata": {},
     "outputs": [
      {
       "metadata": {},
       "output_type": "pyout",
       "prompt_number": 11,
       "text": [
        "bindec (generic function with 1 method)"
       ]
      }
     ],
     "prompt_number": 11
    },
    {
     "cell_type": "code",
     "collapsed": false,
     "input": [
      "bindec(\"101.0101\")"
     ],
     "language": "python",
     "metadata": {},
     "outputs": [
      {
       "output_type": "stream",
       "stream": "stdout",
       "text": [
        "parte entera= 5.0, parte decimal=0.3125, pero el resultado (Float 64) es el de abajo\n"
       ]
      },
      {
       "metadata": {},
       "output_type": "pyout",
       "prompt_number": 12,
       "text": [
        "5.3125"
       ]
      }
     ],
     "prompt_number": 12
    },
    {
     "cell_type": "code",
     "collapsed": false,
     "input": [
      " bindec(\"1111111111.1111010010010111111111111\")"
     ],
     "language": "python",
     "metadata": {},
     "outputs": [
      {
       "output_type": "stream",
       "stream": "stdout",
       "text": [
        "parte entera= 1023.0, parte decimal=0.9554443061351776, pero el resultado (Float 64) es el de abajo\n"
       ]
      },
      {
       "metadata": {},
       "output_type": "pyout",
       "prompt_number": 13,
       "text": [
        "1023.9554443061352"
       ]
      }
     ],
     "prompt_number": 13
    },
    {
     "cell_type": "heading",
     "level": 4,
     "metadata": {},
     "source": [
      "(iii) Escribe una funci\u00f3n que toma un n\u00famero real y regresa la cadena en binario correspondiente."
     ]
    },
    {
     "cell_type": "markdown",
     "metadata": {},
     "source": [
      "Primerpo voy a definir una funci\u00f3n que me arroje la parte decimal de un n\u00famero. La hago as\u00ed porque la funci\u00f3n x-int(x) tiene mucho error (de aproximaci\u00f3n), y no supe corregirlo. Aunque \u00e9sta tambi\u00e9n presenta un error de aproximaci\u00f3n, aunque menor, y otro adicional; el n\u00famero x=0.00001 toma a x=1.0e-5, entonces y=\"1.0e-5\", lo cual hace que y[4]='e' y y[5]='-', y entonces no funciona. Es claro que el mismo error se repite para todo n\u00famero peque\u00f1o en notaci\u00f3n cient\u00edfica. Pero para n\u00fameros del tipo 0.113456780987654321235890, Julia no los representa en esta notaci\u00f3n, as\u00ed que no hay problema (ahora el problema es de aproximaci\u00f3n)."
     ]
    },
    {
     "cell_type": "code",
     "collapsed": false,
     "input": [
      "function partedecimal1(x)\n",
      "y=\"$x\"\n",
      "n= search(y,'.')\n",
      "    suma=0.0\n",
      "    for   i in n+1:length(y) \n",
      " #        with_rounding(Float64,RoundDown) do\n",
      "        if  y[i]=='0'   suma+= 0.0 end\n",
      "            if y[i]=='1'   suma+= 1.0/(10^(i-n)) end\n",
      "                if y[i]=='2'  suma+= 2.0/(10^(i-n)) end\n",
      "                    if  y[i]=='3'   suma+= 3.0/(10^(i-n)) end\n",
      "                        if y[i]=='4'   suma+= 4.0/(10^(i-n)) end\n",
      "                            if  y[i]=='5'   suma+= 5.0/(10^(i-n)) end\n",
      "                                if  y[i]=='6'   suma+= 6.0/(10^(i-n)) end\n",
      "                                    if y[i]=='7'   suma+= 7.0/(10^(i-n)) end\n",
      "                                        if  y[i]=='8'   suma+= 8.0/(10^(i-n)) end\n",
      "                                          if   y[i]=='9'   suma+= 9.0/(10^(i-n)) end\n",
      " #       end\n",
      "    end\n",
      "    return suma\n",
      "end"
     ],
     "language": "python",
     "metadata": {},
     "outputs": [
      {
       "metadata": {},
       "output_type": "pyout",
       "prompt_number": 14,
       "text": [
        "partedecimal1 (generic function with 1 method)"
       ]
      }
     ],
     "prompt_number": 14
    },
    {
     "cell_type": "markdown",
     "metadata": {},
     "source": [
      "Ahora voy a definir una funci\u00f3n que calcule la representaci\u00f3n binaria de un numero decimal \"puro\", es decir, un n\u00famero que tenga parte entera cero."
     ]
    },
    {
     "cell_type": "code",
     "collapsed": false,
     "input": [
      "\n",
      "function binariodepuntodecimal(x)\n",
      "m=0\n",
      "n=x\n",
      "l=Int64[]\n",
      "while(n != 0 && m<64)\n",
      "    m+=1\n",
      "    push!(l, floor(n*2))\n",
      "    n=partedecimal1(n*2)\n",
      "  #  println(\"$m, $n, $(n !=0)   $(m==64)    $(n !=0 || m==64)\")\n",
      "end\n",
      "if m==64 \n",
      " #\"0.$(join(l))...\"\n",
      "        \"$(join(l))...\" #para no tener problemas al usarlo en la funci\u00f3n de abajo, sino cuando \n",
      "        #la mande a llamar abajo aparecer\u00e1 (ejemplo) 1.0.0101 con doble punto\n",
      "else\n",
      "#\"0.$(join(l))\"\n",
      "        \"$(join(l))\"\n",
      "end\n",
      "end"
     ],
     "language": "python",
     "metadata": {},
     "outputs": [
      {
       "metadata": {},
       "output_type": "pyout",
       "prompt_number": 15,
       "text": [
        "binariodepuntodecimal (generic function with 1 method)"
       ]
      }
     ],
     "prompt_number": 15
    },
    {
     "cell_type": "markdown",
     "metadata": {},
     "source": [
      "Ahora simplemente separo el n\u00famero en su parte entera y su parte decimal."
     ]
    },
    {
     "cell_type": "code",
     "collapsed": false,
     "input": [
      "#Esta funci\u00f3n reales (positivos,negativos, con punto decimal)  y devuelve una cadena\n",
      "function decbin(x)\n",
      "    if x<0\n",
      "        x=-x\n",
      "    y=\"$x\"\n",
      "    entera=int(floor(x))\n",
      "    decimal=partedecimal1(x)\n",
      "    return  \"-$(db1(entera)).$(binariodepuntodecimal(decimal))\"\n",
      "    else\n",
      "        y=\"$x\"\n",
      "    entera=int(floor(x))\n",
      "    decimal=partedecimal1(x)\n",
      "    return  \"$(db1(entera)).$(binariodepuntodecimal(decimal))\"\n",
      "    end\n",
      "       end"
     ],
     "language": "python",
     "metadata": {},
     "outputs": [
      {
       "metadata": {},
       "output_type": "pyout",
       "prompt_number": 16,
       "text": [
        "decbin (generic function with 1 method)"
       ]
      }
     ],
     "prompt_number": 16
    },
    {
     "cell_type": "code",
     "collapsed": false,
     "input": [
      "decbin(0.5)"
     ],
     "language": "python",
     "metadata": {},
     "outputs": [
      {
       "metadata": {},
       "output_type": "pyout",
       "prompt_number": 17,
       "text": [
        "\"0.1\""
       ]
      }
     ],
     "prompt_number": 17
    },
    {
     "cell_type": "code",
     "collapsed": false,
     "input": [
      "decbin(-0.3125)"
     ],
     "language": "python",
     "metadata": {},
     "outputs": [
      {
       "metadata": {},
       "output_type": "pyout",
       "prompt_number": 18,
       "text": [
        "\"-0.0101\""
       ]
      }
     ],
     "prompt_number": 18
    },
    {
     "cell_type": "heading",
     "level": 4,
     "metadata": {},
     "source": [
      "[6] \u00bfC\u00f3mo se representa $0.1_{10}$ en binario? \u00bfQu\u00e9 notas? \u00bfEs sorprendente?"
     ]
    },
    {
     "cell_type": "code",
     "collapsed": false,
     "input": [
      "decbin(0.1)"
     ],
     "language": "python",
     "metadata": {},
     "outputs": [
      {
       "metadata": {},
       "output_type": "pyout",
       "prompt_number": 19,
       "text": [
        "\"0.0001100110011001100110011001100110011001100110011001100110011001...\""
       ]
      }
     ],
     "prompt_number": 19
    },
    {
     "cell_type": "markdown",
     "metadata": {},
     "source": [
      "Es sorprendente porque  pense (antes de saber el m\u00e9todo de calcularlo) que iba a dar lo mismo. Aunque tambi\u00e9n me sorprende que, escribiendo un n\u00famero(con punto decimal) al azar, es d\u00edficil pegarle a uno cuya representaci\u00f3n decimal sea finita. El ejemplo de 0.3125 lo v\u00ed en wikipedia. \n",
      "\n",
      "Si empiezo a dividir un n\u00famero par entre 2 sucesivamente, cualquier decimal que aparezca tendra representaci\u00f3n decimal finita. Por ejemplo 0.3125 = 10/2/2/2/2/2. Asi con cualquier n\u00famero. Pero 7/2/2/2 no tiene representaci\u00f3n decimal finita, porque 7 no es divisible entre dos."
     ]
    },
    {
     "cell_type": "heading",
     "level": 4,
     "metadata": {},
     "source": [
      "[7] Utiliza la funci\u00f3n bits para investigar c\u00f3mo se representan los siguientes n\u00fameros flotantes."
     ]
    },
    {
     "cell_type": "heading",
     "level": 4,
     "metadata": {},
     "source": [
      "1, 1/2, 1/4, 2, \u22122, 0.1, 0.2, 0.4, 3.14159, 31.4159, etc."
     ]
    },
    {
     "cell_type": "code",
     "collapsed": false,
     "input": [
      "for i in [1,0.1, 1/2,2,-2,0.2,1/4,0.4,3.14159,31.4159]\n",
      "    println(\"$i ==> $(bits(i)), $(typeof(i))\")\n",
      "end"
     ],
     "language": "python",
     "metadata": {},
     "outputs": [
      {
       "output_type": "stream",
       "stream": "stdout",
       "text": [
        "1.0 ==> 0011111111110000000000000000000000000000000000000000000000000000, Float64\n"
       ]
      },
      {
       "output_type": "stream",
       "stream": "stdout",
       "text": [
        "0.1 ==> 0011111110111001100110011001100110011001100110011001100110011010, Float64\n",
        "0.5 ==> 0011111111100000000000000000000000000000000000000000000000000000, Float64\n",
        "2.0 ==> 0100000000000000000000000000000000000000000000000000000000000000, Float64\n",
        "-2.0 ==> 1100000000000000000000000000000000000000000000000000000000000000, Float64\n",
        "0.2 ==> 0011111111001001100110011001100110011001100110011001100110011010, Float64\n",
        "0.25 ==> 0011111111010000000000000000000000000000000000000000000000000000, Float64\n",
        "0.4 ==> 0011111111011001100110011001100110011001100110011001100110011010, Float64\n",
        "3.14159 ==> 0100000000001001001000011111100111110000000110111000011001101110, Float64\n",
        "31.4159 ==> 0100000000111111011010100111100001101100001000100110100000001010, Float64\n"
       ]
      }
     ],
     "prompt_number": 20
    },
    {
     "cell_type": "heading",
     "level": 4,
     "metadata": {},
     "source": [
      "Ser\u00e1 \u00fatil escribir una funci\u00f3n que compare dos cadenas y te indique en donde difieren. "
     ]
    },
    {
     "cell_type": "code",
     "collapsed": false,
     "input": [
      "function comparacadenas(x,y)\n",
      "    n=length(x)\n",
      "    m=length(y)\n",
      "    l=0\n",
      "    if (n>m) \n",
      "        println(\"la cadena1 es mas larga que la cadena2\")\n",
      "    else\n",
      "        if(n==m)  \n",
      "            println(\"las cadenas tienen la misma longitud\")\n",
      "        else\n",
      "            println(\"la cadena2 es mas larga que la cadena1\")\n",
      "        end\n",
      "    end\n",
      "   # println(\"t\u00e9rmino       (cadena1,cadena2)\")\n",
      "    for i in 1:min(n,m)\n",
      "        if (x[i]==y[i]) \n",
      "            l+=1\n",
      "            #println(\"las cadenas son iguales\")\n",
      "            continue\n",
      "        else\n",
      "            println (\"t=$i  ($(x[i]),$(y[i]))\")\n",
      "        end\n",
      "    end\n",
      "    if(l==max(n,m)) println(\"las cadenas son iguales\") end\n",
      "    end     "
     ],
     "language": "python",
     "metadata": {},
     "outputs": [
      {
       "metadata": {},
       "output_type": "pyout",
       "prompt_number": 21,
       "text": [
        "comparacadenas (generic function with 1 method)"
       ]
      }
     ],
     "prompt_number": 21
    },
    {
     "cell_type": "code",
     "collapsed": false,
     "input": [
      "comparacadenas(bits(3.14159),bits(31.4159))"
     ],
     "language": "python",
     "metadata": {},
     "outputs": [
      {
       "output_type": "stream",
       "stream": "stdout",
       "text": [
        "las cadenas tienen la misma longitud\n"
       ]
      },
      {
       "output_type": "stream",
       "stream": "stdout",
       "text": [
        "t=11  (0,1)\n",
        "t=12  (0,1)\n",
        "t=14  (0,1)\n",
        "t=15  (0,1)\n",
        "t=18  (0,1)\n",
        "t=21  (0,1)\n",
        "t=23  (0,1)\n",
        "t=24  (1,0)\n",
        "t=25  (1,0)\n",
        "t=32  (1,0)\n",
        "t=33  (1,0)\n",
        "t=36  (1,0)\n",
        "t=37  (0,1)\n",
        "t=38  (0,1)\n",
        "t=43  (0,1)\n",
        "t=44  (1,0)\n",
        "t=45  (1,0)\n",
        "t=48  (1,0)\n",
        "t=49  (1,0)\n",
        "t=50  (0,1)\n",
        "t=51  (0,1)\n",
        "t=53  (0,1)\n",
        "t=54  (1,0)\n",
        "t=55  (1,0)\n",
        "t=58  (1,0)\n",
        "t=59  (1,0)\n",
        "t=62  (1,0)\n"
       ]
      }
     ],
     "prompt_number": 22
    },
    {
     "cell_type": "code",
     "collapsed": false,
     "input": [
      "comparacadenas(\"12345\",\"12345678\")"
     ],
     "language": "python",
     "metadata": {},
     "outputs": [
      {
       "output_type": "stream",
       "stream": "stdout",
       "text": [
        "la cadena2 es mas larga que la cadena1\n"
       ]
      }
     ],
     "prompt_number": 23
    },
    {
     "cell_type": "code",
     "collapsed": false,
     "input": [
      "comparacadenas(\"12347\",\"12345678\")"
     ],
     "language": "python",
     "metadata": {},
     "outputs": [
      {
       "output_type": "stream",
       "stream": "stdout",
       "text": [
        "la cadena2 es mas larga que la cadena1\n"
       ]
      },
      {
       "output_type": "stream",
       "stream": "stdout",
       "text": [
        "t=5  (7,5)\n"
       ]
      }
     ],
     "prompt_number": 24
    },
    {
     "cell_type": "code",
     "collapsed": false,
     "input": [
      "comparacadenas(\"12345\",\"12345\")"
     ],
     "language": "python",
     "metadata": {},
     "outputs": [
      {
       "output_type": "stream",
       "stream": "stdout",
       "text": [
        "las cadenas tienen la misma longitud\n"
       ]
      },
      {
       "output_type": "stream",
       "stream": "stdout",
       "text": [
        "las cadenas son iguales\n"
       ]
      }
     ],
     "prompt_number": 25
    },
    {
     "cell_type": "code",
     "collapsed": false,
     "input": [],
     "language": "python",
     "metadata": {},
     "outputs": [],
     "prompt_number": 26
    }
   ],
   "metadata": {}
  }
 ]
}