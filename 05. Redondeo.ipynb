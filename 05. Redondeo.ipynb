{
 "metadata": {
  "kernelspec": {
   "display_name": "Julia 0.3.7-pre",
   "language": "julia",
   "name": "julia 0.3"
  },
  "language": "Julia",
  "language_info": {
   "name": "julia",
   "version": "0.3.7"
  },
  "name": "",
  "signature": "sha256:8df2e0bb8a92703adaf01019bfdb84c91c3d70bdcd4610fa52f0272b3872cb26"
 },
 "nbformat": 3,
 "nbformat_minor": 0,
 "worksheets": [
  {
   "cells": [
    {
     "cell_type": "code",
     "collapsed": false,
     "input": [
      "include(\"funciones.jl\")"
     ],
     "language": "python",
     "metadata": {},
     "outputs": [
      {
       "metadata": {},
       "output_type": "pyout",
       "prompt_number": 2,
       "text": [
        "comparacadenas (generic function with 1 method)"
       ]
      }
     ],
     "prompt_number": 2
    },
    {
     "cell_type": "heading",
     "level": 1,
     "metadata": {},
     "source": [
      "Redondeo"
     ]
    },
    {
     "cell_type": "markdown",
     "metadata": {},
     "source": [
      "$\\newcommand{\\RR}{\\mathbb{R}}$\n",
      "$\\newcommand{\\FF}{\\mathbb{F}}$\n",
      "\n",
      "Tenemos una representaci\u00f3n del conjunto no-numerable $\\RR$ a trav\u00e9s del conjunto finito $\\FF$. \u00bfC\u00f3mo podemos pasar de un n\u00famero real a un n\u00famero flotante, si el n\u00famero real no es exactamente representable (lo cual es el caso para \u00a1*casi todos* los n\u00fameros reales!)? Extenderemos para este fin los n\u00fameros reales y los flotantes con $\\pm \\infty$, y hablaremos de los reales extendidos $\\RR^* := \\RR \\cup \\{-\\infty, +\\infty \\}$  y $\\FF^* := \\FF \\cup \\{-\\infty, +\\infty \\}$.\n",
      "\n",
      "Un mapeo $\\bigcirc: \\RR^* \\to \\FF^*$ es una *operaci\u00f3n de redondeo* si \n",
      "\n",
      "- Para toda $x \\in \\FF^*$, $\\bigcirc(x) = x$.\n",
      "- Si $x, y \\in \\RR^*$, y $x \\le y$, entonces $\\bigcirc(x) \\le \\bigcirc(y)$.\n",
      "\n",
      "Es decir, el redondeo deja invariantes los n\u00fameros representables en el sistema de punto flotante, y preserva el orden."
     ]
    },
    {
     "cell_type": "markdown",
     "metadata": {},
     "source": [
      "Utilizaremos dos modos de redondeo: $\\bigtriangleup$, que redondea para arriba (hacia $+\\infty$), y $\\bigtriangledown$, que redondea para abajo (hacia $-\\infty$). Se definen como sigue:\n",
      "\n",
      "- $\\bigtriangleup \\! (x) := \\min \\{y \\in \\FF^*: y \\ge x \\}$\n",
      "- $\\bigtriangledown(x) := \\max \\{y \\in \\FF^*: y \\le x \\}$\n",
      "\n",
      "Hablamos de $x$ redondeado para arriba y $x$ redondeado para abajo, respectivamente; estos dos modos de redondeo se llaman modos de redondeo *dirigidos*.\n",
      "\n",
      "Nota que no es evidente c\u00f3mo implementar estas operaciones en la computadora, ya que \u00a1*no podemos representar los n\u00fameros reales originales*!"
     ]
    },
    {
     "cell_type": "markdown",
     "metadata": {},
     "source": [
      "[1] (i) Si tuvi\u00e9ramos un n\u00famero real positivo $x$ (es decir, con  precisi\u00f3n infinita), \u00bfc\u00f3mo podr\u00edamos encontrar $\\bigtriangleup(x)$ y $\\bigtriangledown(x)$?\n",
      "\n",
      "(ii) Encuentra $\\bigtriangleup(0.1)$ y $\\bigtriangledown(0.1)$ para aritm\u00e9tica flotante de IEEE. \u00bfEn cu\u00e1nto difieren? \u00bfQu\u00e9 podemos decir sobre el *error de redondeo*?\n",
      "\n",
      "[2] Haz de nuevo el ejercicio anterior para $x=1.1$ y para $x=10.1$.\n",
      "\n",
      "[3] \u00bfQu\u00e9 pasa con $\\bigtriangleup(x)$ y $\\bigtriangledown(x)$ si $x \\in \\FF^*$? Pasa que $\\bigtriangleup(x)$ = $\\bigtriangledown(x)$ \n",
      "\n",
      "[4] \u00bfCu\u00e1l es la relaci\u00f3n entre $\\bigtriangleup(-x)$ y $\\bigtriangledown(x)$?  $\\bigtriangleup(-x)$ = $-\\bigtriangledown(x)$\n"
     ]
    },
    {
     "cell_type": "heading",
     "level": 4,
     "metadata": {},
     "source": [
      "Respuestas a la pregunta [1]"
     ]
    },
    {
     "cell_type": "markdown",
     "metadata": {},
     "source": [
      "(i) Primero debemos saber cual es el conjunto finito $\\FF$, luego buscar entre que elementos de ese conjunto finito podemos acotar el n\u00famero x. La cota superior es $\\bigtriangleup(x)$ y la cota inferior es $\\bigtriangledown(x)$?\n",
      "\n",
      "(ii) La representaci\u00f3n binaria de 0.1 es:\n"
     ]
    },
    {
     "cell_type": "code",
     "collapsed": false,
     "input": [
      "dedecimalabinariopunto(0.1)"
     ],
     "language": "python",
     "metadata": {},
     "outputs": [
      {
       "metadata": {},
       "output_type": "pyout",
       "prompt_number": 48,
       "text": [
        "\"0.0001100110011001100110011001100110011001100110011001100110011001...\""
       ]
      }
     ],
     "prompt_number": 48
    },
    {
     "cell_type": "markdown",
     "metadata": {},
     "source": [
      "que es equivalente a $1.100110011001100110011001100110011001100110011001100110011001... \\times 2^{-4}$"
     ]
    },
    {
     "cell_type": "markdown",
     "metadata": {},
     "source": [
      "pero debemos tener 52 decimales en la mantisa, es decir debemos tener:\n",
      "\n",
      "$1.0001100110011001100110011001100110011001100110011001 \\times 2^{-4}$ --decimal--> =0.06874999999999999 (OJO)"
     ]
    },
    {
     "cell_type": "markdown",
     "metadata": {},
     "source": [
      "\u00e9sta de arriba es $\\bigtriangledown (x)$,y $\\bigtriangleup (x)$ es \n",
      "\n",
      "$\\bigtriangleup (x) + 0.1 \\times 2^{-52} = 1.0001100110011001100110011001100110011001100110011010\u00d72^{\u22124}$ --decimal-->\n",
      "\n",
      "0.06875 (OJO)\n"
     ]
    },
    {
     "cell_type": "code",
     "collapsed": false,
     "input": [
      "debinarioadecimalpunto(\"0.00010001100110011001100110011001100110011001100110011010\")"
     ],
     "language": "python",
     "metadata": {},
     "outputs": [
      {
       "output_type": "stream",
       "stream": "stdout",
       "text": [
        "parte entera= 0.0, parte decimal=0.06875, pero el resultado (Float 64) es el de abajo\n"
       ]
      },
      {
       "metadata": {},
       "output_type": "pyout",
       "prompt_number": 9,
       "text": [
        "0.06875"
       ]
      }
     ],
     "prompt_number": 9
    },
    {
     "cell_type": "markdown",
     "metadata": {},
     "source": [
      "AQU\u00cd YA NO S\u00c9 SI MI PROGRAMA QUE CONVIERTE DE BINARIO A DECIMAL EST\u00c1 MAL, O YO ESTOY HACIENDO MAL LAS COSAS, PORQUE SE SUPONE QUE $\\bigtriangledown(0.1)<0.1$, lo cual es cierto, pero $\\bigtriangleup(x)$ debe ser mayor a $0.1$ y eso no es cierto, seg\u00fan mi programa y seg\u00fan la forma en que calcul\u00e9 el redondeo hacia arriba."
     ]
    },
    {
     "cell_type": "heading",
     "level": 4,
     "metadata": {},
     "source": [
      "Respuestas para [2]"
     ]
    },
    {
     "cell_type": "markdown",
     "metadata": {},
     "source": [
      "[2] Lo mismo para 1.1 y 10.1. La representaci\u00f3n binaria de 1.1 es"
     ]
    },
    {
     "cell_type": "code",
     "collapsed": false,
     "input": [
      "dedecimalabinariopunto(1.1)"
     ],
     "language": "python",
     "metadata": {},
     "outputs": [
      {
       "metadata": {},
       "output_type": "pyout",
       "prompt_number": 49,
       "text": [
        "\"1.0001100110011001100110011001100110011001100110011001100110011001...\""
       ]
      }
     ],
     "prompt_number": 49
    },
    {
     "cell_type": "markdown",
     "metadata": {},
     "source": [
      "que es igual a $1.0001100110011001100110011001100110011001100110011001 \\times 2^{0}$ ya contando 52 bits. Y \u00e9ste \u00faltimo, es $\\bigtriangledown (1.1)$. $\\bigtriangleup(1.1) =\\bigtriangledown (1.1) +1 \\times 10^{-56}= 1.0001100110011001100110011001100110011001100110011010  $"
     ]
    },
    {
     "cell_type": "code",
     "collapsed": false,
     "input": [
      "dedecimalabinariopunto(10.1)"
     ],
     "language": "python",
     "metadata": {},
     "outputs": [
      {
       "metadata": {},
       "output_type": "pyout",
       "prompt_number": 3,
       "text": [
        "\"1010.0001100110011001100110011001100110011001100110011001100110011001...\""
       ]
      }
     ],
     "prompt_number": 3
    },
    {
     "cell_type": "markdown",
     "metadata": {},
     "source": [
      "Entonces la representaci\u00f3n de 10.1 es\n",
      "\n",
      "$1.0100001100110011001100110011001100110011001100110011001100110011001 \\times 10^3$"
     ]
    },
    {
     "cell_type": "markdown",
     "metadata": {},
     "source": [
      "Entonces, yo entiendo que el redonde hacia abajo es\n",
      "\n",
      "$1.0100001100110011001100110011001100110011001100110011\\times 10^3=\\bigtriangledown(10.1)$"
     ]
    },
    {
     "cell_type": "markdown",
     "metadata": {},
     "source": [
      "y el redonde hacia arriba es el redondeo hacia abajo m\u00e1s la distancia hacia el siguiente numero normal. Es decir\n",
      "\n",
      "$1.0100001100110011001100110011001100110011001100110011\u00d710^3+0.0000000000000000000000000000000000000000000000000001\u00d710^3$\n",
      "$=1.0100001100110011001100110011001100110011001100110100\u00d710^3 = \\bigtriangleup(10.1)$"
     ]
    },
    {
     "cell_type": "markdown",
     "metadata": {},
     "source": [
      "Existen otros modos de redondeo adem\u00e1s de los redondeos arriba mencionados:\n",
      "\n",
      "- Redondeo a cero (truncamiento): $\\square_z(x) = {\\rm sign}(x) \\max\\{y \\in \\FF^*: y\\leq |x| \\}$\n",
      "\n",
      "- Redondeo al m\u00e1s cercano (*round to nearest*): como su nombre lo indica, se redondea al n\u00famero de punto flotante m\u00e1s cercano, usando $\\bigtriangleup(x)$ o $\\bigtriangledown(x)$ seg\u00fan sea el caso. Definiendo $\\mu = (\\bigtriangleup(x) + \\bigtriangledown(x))/2$, entonces:\n",
      "\n",
      "\\begin{equation}\n",
      "\\square_n(x) = \\left\\{\n",
      "\\begin{array}{1 1}\n",
      "\\bigtriangledown(x), &x\\in[\\bigtriangledown(x),\\mu)\\\\\n",
      "\\bigtriangleup(x),   &x\\in[\\mu,\\bigtriangleup(x)].\\\\\n",
      "\\end{array}\n",
      "\\right.\n",
      "\\end{equation}\n",
      "\n",
      "- Redondeo al m\u00e1s cercano *parejo* (*round to nearest even*): es parecido al modo anterior *logrando* que el redondeo hacia arriba y hacia abajo ocurran con la misma probabilidad. (La sutileza en la definici\u00f3n de $\\square_n(x)$ est\u00e1 en que la definici\u00f3n involucra un intervalo cerrado y uno semicerrado.) Este redondeo involucra en la definici\u00f3n la paridad del \u00faltimo d\u00edgito de la representaci\u00f3n de punto flotante de $\\bigtriangleup(x)$ y $\\bigtriangledown(x)$. Este modo de redondeo es el modo m\u00e1s com\u00fan."
     ]
    },
    {
     "cell_type": "heading",
     "level": 2,
     "metadata": {},
     "source": [
      "Aritm\u00e9tica de punto flotante"
     ]
    },
    {
     "cell_type": "markdown",
     "metadata": {},
     "source": [
      "\u00bfC\u00f3mo podemos hacer aritm\u00e9tica en el mundo de punto flotante?\n",
      "\n",
      "[5] Encuentra unos ejemplos de pares de  n\u00fameros $x , y \\in \\FF$ tal que $x \\oplus y \\notin \\FF$. (Aqu\u00ed, $\\FF$ denota a los flotantes de doble precisi\u00f3n de IEEE, y $\\oplus$ es alguna operaci\u00f3n aritm\u00e9tica entre $x$ y $y$.)\n",
      "\n",
      "$1.111...1\\times 2^{2047}$ (52 d\u00edgitos) + $1.111...1\\times 2^{2047}$ ya no se pueden sumar porque son los m\u00e1s grandes. De hecho cualquier n\u00famero sumado despu\u00e9s de la mitad del conjunto, ya no cabe en el conjunto. Lo anterior queda claro con el siguiente ejemplo:\n",
      "\n",
      "Supongamos que tenemos el intervalo [0,1], despu\u00e9s de 1/2,  la suma de esos dos n\u00fameros ya no cabe en el conjunto."
     ]
    },
    {
     "cell_type": "markdown",
     "metadata": {},
     "source": [
      "[6] \u00bfQu\u00e9 podemos hacer al respecto?\n",
      "\n",
      "Sospecho que quer\u00edan  otro tipo de ejemplo. Con el que d\u00ed, al respecto podr\u00edamos ampliar el rango en que varian los exponentes. Es decir, ampliar el conjunto."
     ]
    },
    {
     "cell_type": "markdown",
     "metadata": {},
     "source": [
      "[7] En los reales tenemos que, si se cumple $x+y = x+y'$, entonces $y = y'$. \u00bfSe cumple esto entre los n\u00fameros de punto flotante? Si tu respuesta es **no**, da un ejemplo.\n",
      "\n",
      "No encuentro la raz\u00f3n de que no se pueda cumplir la ley de cancelaci\u00f3n, ni un ejemplo. Pero seguro no se vale. \n"
     ]
    },
    {
     "cell_type": "markdown",
     "metadata": {},
     "source": [
      "[8] Analiza el caso de iterar el mapeo $f:[0,1] \\to [0,1]$ dado por $f(x) = 3x \\mathrm{\\ mod\\ } 1$, con la condici\u00f3n inicial $x_0 = \\frac{1}{10}$:\n",
      "\n",
      "1. \u00bfQu\u00e9 pasa anal\u00edticamente? Los resultados son peri\u00f3dicos, 0.1-0.3-0.9-07-0.1\n",
      "2. \u00bfQu\u00e9 pasa num\u00e9ricamente? ya no es peri\u00f3dico, porque se va perdiendo precisi\u00f3n en cada paso\n",
      "3. \u00bfQu\u00e9 pasa si consideras una condici\u00f3n inicial $x_0$ arbitraria? Puede ser precisa, si el punto inicial tiene representaci\u00f3n finita en binario. Como se ve abajo, si x_0 = 0.3125 -binario-> 0.0101, entonces el mapeo s\u00ed es peri\u00f3dico.\n",
      "\n",
      "[Nota: $\\mathrm{mod\\ } 1$ quiere decir que s\u00f3lo consideramos la parte fraccionaria entre $0$ y $1$ de la respuesta en cada paso.]"
     ]
    },
    {
     "cell_type": "code",
     "collapsed": false,
     "input": [
      "y=Float64[]\n",
      "push!(y,0.3125)\n",
      "println(\"$(y[1])\")\n",
      "for i in 2:50\n",
      "   # push!(y,partedecimal(3*y[i-1]))\n",
      "    push!(y,mod(3*y[i-1],1))\n",
      "    #push!(y,(3*y[i-1])-int(3*y[i-1]))\n",
      "    println(\"$(y[i])\")\n",
      "end"
     ],
     "language": "python",
     "metadata": {},
     "outputs": [
      {
       "output_type": "stream",
       "stream": "stdout",
       "text": [
        "0.3125\n"
       ]
      },
      {
       "output_type": "stream",
       "stream": "stdout",
       "text": [
        "0.9375\n",
        "0.8125\n",
        "0.4375\n",
        "0.3125\n",
        "0.9375\n",
        "0.8125\n",
        "0.4375\n",
        "0.3125\n",
        "0.9375\n",
        "0.8125\n",
        "0.4375\n",
        "0.3125\n",
        "0.9375\n",
        "0.8125\n",
        "0.4375\n",
        "0.3125\n",
        "0.9375\n",
        "0.8125\n",
        "0.4375\n",
        "0.3125\n",
        "0.9375\n",
        "0.8125\n",
        "0.4375\n",
        "0.3125\n",
        "0.9375\n",
        "0.8125\n",
        "0.4375\n",
        "0.3125\n",
        "0.9375\n",
        "0.8125\n",
        "0.4375\n",
        "0.3125\n",
        "0.9375\n",
        "0.8125\n",
        "0.4375\n",
        "0.3125\n",
        "0.9375\n",
        "0.8125\n",
        "0.4375\n",
        "0.3125\n",
        "0.9375\n",
        "0.8125\n",
        "0.4375\n",
        "0.3125\n",
        "0.9375\n",
        "0.8125\n",
        "0.4375\n",
        "0.3125\n",
        "0.9375\n"
       ]
      }
     ],
     "prompt_number": 99
    },
    {
     "cell_type": "heading",
     "level": 2,
     "metadata": {
      "collapsed": false
     },
     "source": [
      "Aplicando redondeo para obtener resultados garantizados"
     ]
    },
    {
     "cell_type": "markdown",
     "metadata": {},
     "source": [
      "Ya estamos en condiciones para empezar a hacer c\u00e1lculos \u00fatiles.\n",
      "\n",
      "Siguiendo al libro de Tucker, consideremos la suma infinita\n",
      "\n",
      "$$S = \\sum_{n=1}^\\infty \\frac{1}{n^2}.$$\n",
      "\n",
      "Se sabe que $S = \\frac{\\pi^2}{6}$."
     ]
    },
    {
     "cell_type": "markdown",
     "metadata": {},
     "source": [
      "[9] Calcula $S$ num\u00e9ricamente de manera ingenua. "
     ]
    },
    {
     "cell_type": "code",
     "collapsed": false,
     "input": [
      "suma1=0\n",
      "for i in 1:10000\n",
      "    suma1+= 1/(i^2)\n",
      "end\n",
      "x=suma1"
     ],
     "language": "python",
     "metadata": {},
     "outputs": [
      {
       "metadata": {},
       "output_type": "pyout",
       "prompt_number": 103,
       "text": [
        "1.6448340718491679"
       ]
      }
     ],
     "prompt_number": 103
    },
    {
     "cell_type": "code",
     "collapsed": false,
     "input": [
      "\u03c0^2/6-ans"
     ],
     "language": "python",
     "metadata": {},
     "outputs": [
      {
       "metadata": {},
       "output_type": "pyout",
       "prompt_number": 66,
       "text": [
        "9.999500127544358e-5"
       ]
      }
     ],
     "prompt_number": 66
    },
    {
     "cell_type": "markdown",
     "metadata": {},
     "source": [
      "Para calcular $S$ de forma num\u00e9rica pero *garantizada*, tenemos dos tareas: debemos lidiar con la suma infinita, y luego garantizar que el resultado realmente contenga el valor verdadero."
     ]
    },
    {
     "cell_type": "markdown",
     "metadata": {},
     "source": [
      "[10] Sea la cola de la suma $T_N := \\sum_{n=N+1}^\\infty \\frac{1}{n^2}$. Utiliza un argumento geom\u00e9trico para mostrar que\n",
      "\n",
      "$$\\int_{N+1}^\\infty \\frac{1}{x^2} dx < T_N < \\int_{N+1}^\\infty \\frac{1}{(x-1)^2} dx,$$\n",
      "\n",
      "y as\u00ed encuentra cotas para $T_N$."
     ]
    },
    {
     "cell_type": "markdown",
     "metadata": {},
     "source": [
      "Las cotas para $T_N$ son $\\frac{1}{N+1}$ y $\\frac{1}{N}$"
     ]
    },
    {
     "cell_type": "markdown",
     "metadata": {},
     "source": [
      "[11] Usa redondeo para abajo y arriba para calcular cotas para la parte inicial $S_N := \\sum_{n=1}^N n^{-2}$.\n",
      "\n",
      "[Para cambiar el modo del redondeo en Julia, usamos\n",
      "\n",
      "    set_rounding(Float64, RoundUp)\n",
      "    \n",
      "]"
     ]
    },
    {
     "cell_type": "code",
     "collapsed": false,
     "input": [
      "suma2=0\n",
      "for i in 1:10000\n",
      "    set_rounding(Float64, RoundUp)\n",
      "    suma2+= 1/(i^2)\n",
      "end\n",
      "Up=suma2"
     ],
     "language": "python",
     "metadata": {},
     "outputs": [
      {
       "metadata": {},
       "output_type": "pyout",
       "prompt_number": 67,
       "text": [
        "1.6448340718491679"
       ]
      }
     ],
     "prompt_number": 67
    },
    {
     "cell_type": "code",
     "collapsed": false,
     "input": [
      "suma3=0\n",
      "for i in 1:10000\n",
      "    set_rounding(Float64, RoundDown)\n",
      "    suma3+= 1/(i^2)\n",
      "end\n",
      "Down=suma3"
     ],
     "language": "python",
     "metadata": {},
     "outputs": [
      {
       "metadata": {},
       "output_type": "pyout",
       "prompt_number": 68,
       "text": [
        "1.6448340718469505"
       ]
      }
     ],
     "prompt_number": 68
    },
    {
     "cell_type": "code",
     "collapsed": true,
     "input": [
      "Down <= suma1<= Up"
     ],
     "language": "python",
     "metadata": {},
     "outputs": [
      {
       "metadata": {},
       "output_type": "pyout",
       "prompt_number": 69,
       "text": [
        "true"
       ]
      }
     ],
     "prompt_number": 69
    },
    {
     "cell_type": "markdown",
     "metadata": {},
     "source": [
      "[12] Utiliza tus dos \u00faltimos resultados para dar cotas *rigurosas* (es decir, garantizadas) para $S$.\n",
      "\n",
      "Verifica que el valor verdadero s\u00ed est\u00e9 contenido adentro de tus cotas."
     ]
    },
    {
     "cell_type": "markdown",
     "metadata": {},
     "source": [
      " $\\bigtriangledown (\\sum_1^N \\frac{1}{n^2}) + \\frac{1}{N+1} < \\sum_1^{\\infty} \\frac{1}{n^2}< \\bigtriangleup (\\sum_1^N \\frac{1}{n^2}) + \\frac{1}{N} $\n",
      "\n",
      "En nuestro caso $N=10000$,  $\\bigtriangledown (\\sum_1^N \\frac{1}{n^2}) = 1.6448340718469505$,  y $\\bigtriangleup (\\sum_1^N \\frac{1}{n^2})= 1.6448340718491679 $"
     ]
    },
    {
     "cell_type": "code",
     "collapsed": false,
     "input": [
      "(Down + 1/(10001))<\u03c0^2/6<Up + 1/10000"
     ],
     "language": "python",
     "metadata": {},
     "outputs": [
      {
       "metadata": {},
       "output_type": "pyout",
       "prompt_number": 70,
       "text": [
        "true"
       ]
      }
     ],
     "prompt_number": 70
    },
    {
     "cell_type": "code",
     "collapsed": false,
     "input": [
      "d1=\u03c0^2/6 - (Down + 1/(10001))"
     ],
     "language": "python",
     "metadata": {},
     "outputs": [
      {
       "metadata": {},
       "output_type": "pyout",
       "prompt_number": 84,
       "text": [
        "5.000275749011962e-9"
       ]
      }
     ],
     "prompt_number": 84
    },
    {
     "cell_type": "code",
     "collapsed": false,
     "input": [
      "d2=(Up + 1/10000)-\u03c0^2/6"
     ],
     "language": "python",
     "metadata": {},
     "outputs": [
      {
       "metadata": {},
       "output_type": "pyout",
       "prompt_number": 85,
       "text": [
        "5.000941882826737e-9"
       ]
      }
     ],
     "prompt_number": 85
    },
    {
     "cell_type": "code",
     "collapsed": false,
     "input": [
      "println(\"$(Down+1/(10001)), $(\u03c0^2/6), $(Up+ 1/10000)\")"
     ],
     "language": "python",
     "metadata": {},
     "outputs": [
      {
       "output_type": "stream",
       "stream": "stdout",
       "text": [
        "1.6449340618479502, 1.644934066848226, 1.6449340718491678\n"
       ]
      }
     ],
     "prompt_number": 79
    },
    {
     "cell_type": "markdown",
     "metadata": {},
     "source": [
      "[13] Repite el c\u00e1lculo con `BigFloat` para obtener m\u00e1s precisi\u00f3n.\n",
      "\n",
      "[En Julia, para cambiar la precisi\u00f3n de los `BigFloat`, usamos\n",
      "\n",
      "    set_bigfloat_precision(100).\n",
      "    \n",
      "]"
     ]
    },
    {
     "cell_type": "code",
     "collapsed": false,
     "input": [
      "suma21=0\n",
      "for i in 1:10000\n",
      "    set_bigfloat_precision(100)\n",
      "    set_rounding(Float64, RoundUp)\n",
      "    suma21+= 1/(i^2)\n",
      "end\n",
      "Up1=suma21"
     ],
     "language": "python",
     "metadata": {},
     "outputs": [
      {
       "metadata": {},
       "output_type": "pyout",
       "prompt_number": 99,
       "text": [
        "1.6448340718491679"
       ]
      }
     ],
     "prompt_number": 99
    },
    {
     "cell_type": "code",
     "collapsed": false,
     "input": [
      "suma31=0\n",
      "for i in 1:10000\n",
      "    set_bigfloat_precision(100)\n",
      "    set_rounding(Float64, RoundDown)\n",
      "    suma31+= 1/(i^2)\n",
      "end\n",
      "Down1=suma31"
     ],
     "language": "python",
     "metadata": {},
     "outputs": [
      {
       "metadata": {},
       "output_type": "pyout",
       "prompt_number": 81,
       "text": [
        "1.6448340718469505"
       ]
      }
     ],
     "prompt_number": 81
    },
    {
     "cell_type": "code",
     "collapsed": false,
     "input": [
      "d11=\u03c0^2/6 - (Down1 + 1/(10001))"
     ],
     "language": "python",
     "metadata": {},
     "outputs": [
      {
       "metadata": {},
       "output_type": "pyout",
       "prompt_number": 86,
       "text": [
        "5.000275749011962e-9"
       ]
      }
     ],
     "prompt_number": 86
    },
    {
     "cell_type": "code",
     "collapsed": false,
     "input": [
      "d21=(Up + 1/10000)-\u03c0^2/6"
     ],
     "language": "python",
     "metadata": {},
     "outputs": [
      {
       "metadata": {},
       "output_type": "pyout",
       "prompt_number": 87,
       "text": [
        "5.000941882826737e-9"
       ]
      }
     ],
     "prompt_number": 87
    },
    {
     "cell_type": "code",
     "collapsed": false,
     "input": [
      "d21==d2"
     ],
     "language": "python",
     "metadata": {},
     "outputs": [
      {
       "metadata": {},
       "output_type": "pyout",
       "prompt_number": 96,
       "text": [
        "true"
       ]
      }
     ],
     "prompt_number": 96
    },
    {
     "cell_type": "code",
     "collapsed": false,
     "input": [
      "d11==d1"
     ],
     "language": "python",
     "metadata": {},
     "outputs": [
      {
       "metadata": {},
       "output_type": "pyout",
       "prompt_number": 97,
       "text": [
        "true"
       ]
      }
     ],
     "prompt_number": 97
    },
    {
     "cell_type": "markdown",
     "metadata": {},
     "source": [
      "No hubo mejora."
     ]
    },
    {
     "cell_type": "markdown",
     "metadata": {},
     "source": [
      "[14] \u00bfCambia en algo las cotas que obtuviste arriba, si haces las sumas invirtiendo el orden de los sumandos? (Por ejemplo, sumando desde $n=N$ hasta $n=1$ en lugar de $n=1$ hasta $n=N$.) Si s\u00ed hay alg\u00fan cambio, \u00bfcu\u00e1l de las maneras de hacer la suma es mejor, y por qu\u00e9?"
     ]
    },
    {
     "cell_type": "code",
     "collapsed": false,
     "input": [
      "suma10=0\n",
      "for i in 10000:-1:1\n",
      "    suma10+= 1/(i^2)\n",
      "end\n",
      "x=suma10"
     ],
     "language": "python",
     "metadata": {},
     "outputs": [
      {
       "metadata": {},
       "output_type": "pyout",
       "prompt_number": 102,
       "text": [
        "1.6448340718480605"
       ]
      }
     ],
     "prompt_number": 102
    },
    {
     "cell_type": "code",
     "collapsed": false,
     "input": [
      "suma1-suma10"
     ],
     "language": "python",
     "metadata": {},
     "outputs": [
      {
       "metadata": {},
       "output_type": "pyout",
       "prompt_number": 104,
       "text": [
        "1.1073364447611311e-12"
       ]
      }
     ],
     "prompt_number": 104
    },
    {
     "cell_type": "code",
     "collapsed": false,
     "input": [
      "suma20=0\n",
      "for i in 10000:-1:1\n",
      "    set_rounding(Float64, RoundUp)\n",
      "    suma20+= 1/(i^2)\n",
      "end\n",
      "Up20=suma20"
     ],
     "language": "python",
     "metadata": {},
     "outputs": [
      {
       "metadata": {},
       "output_type": "pyout",
       "prompt_number": 110,
       "text": [
        "1.6448340718480605"
       ]
      }
     ],
     "prompt_number": 110
    },
    {
     "cell_type": "code",
     "collapsed": false,
     "input": [
      "suma30=0\n",
      "for i in 10000:-1:1\n",
      "    set_rounding(Float64, RoundDown)\n",
      "    suma30+= 1/(i^2)\n",
      "end\n",
      "Down30=suma30"
     ],
     "language": "python",
     "metadata": {},
     "outputs": [
      {
       "metadata": {},
       "output_type": "pyout",
       "prompt_number": 111,
       "text": [
        "1.6448340718480592"
       ]
      }
     ],
     "prompt_number": 111
    },
    {
     "cell_type": "code",
     "collapsed": false,
     "input": [
      "d10=\u03c0^2/6 - (Down30 + 1/(10001))"
     ],
     "language": "python",
     "metadata": {},
     "outputs": [
      {
       "metadata": {},
       "output_type": "pyout",
       "prompt_number": 112,
       "text": [
        "4.999167080299571e-9"
       ]
      }
     ],
     "prompt_number": 112
    },
    {
     "cell_type": "code",
     "collapsed": false,
     "input": [
      "d10=(Up20 + 1/10000)-\u03c0^2/6"
     ],
     "language": "python",
     "metadata": {},
     "outputs": [
      {
       "metadata": {},
       "output_type": "pyout",
       "prompt_number": 113,
       "text": [
        "4.999834546381976e-9"
       ]
      }
     ],
     "prompt_number": 113
    },
    {
     "cell_type": "markdown",
     "metadata": {},
     "source": [
      "Los resultados son mejores"
     ]
    },
    {
     "cell_type": "markdown",
     "metadata": {},
     "source": [
      "[15] Aproxima num\u00e9ricamente la suma:\n",
      "\\begin{equation}\n",
      "S = \\sum_{n=1}^\\infty \\frac{1}{n}.\n",
      "\\end{equation}"
     ]
    },
    {
     "cell_type": "markdown",
     "metadata": {},
     "source": [
      "Esta serie diverge, pero podemos hacer el programa para que sume los primeros N."
     ]
    },
    {
     "cell_type": "code",
     "collapsed": false,
     "input": [
      "suma40=0.0\n",
      "for i in 1000000:-1:1\n",
      " set_bigfloat_precision(100)\n",
      "    suma40+= 1.0/(i)\n",
      "end\n",
      "suma40"
     ],
     "language": "python",
     "metadata": {},
     "outputs": [
      {
       "metadata": {},
       "output_type": "pyout",
       "prompt_number": 118,
       "text": [
        "14.392726722786186"
       ]
      }
     ],
     "prompt_number": 118
    },
    {
     "cell_type": "code",
     "collapsed": false,
     "input": [
      "1/(big(2)^52)"
     ],
     "language": "python",
     "metadata": {},
     "outputs": [
      {
       "metadata": {},
       "output_type": "pyout",
       "prompt_number": 17,
       "text": [
        "2.220446049250313080847263336181640625e-16 with 256 bits of precision"
       ]
      }
     ],
     "prompt_number": 17
    },
    {
     "cell_type": "code",
     "collapsed": false,
     "input": [],
     "language": "python",
     "metadata": {},
     "outputs": []
    }
   ],
   "metadata": {}
  }
 ]
}