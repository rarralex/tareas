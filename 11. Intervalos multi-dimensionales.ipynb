{
 "metadata": {
  "kernelspec": {
   "display_name": "Julia 0.3.8-pre",
   "language": "julia",
   "name": "julia 0.3"
  },
  "language": "Julia",
  "language_info": {
   "name": "julia",
   "version": "0.3.8"
  },
  "name": "",
  "signature": "sha256:5087150f4814fdb2102bfb338cd72784487c350d4c40f0be4be1bfdffcf88f58"
 },
 "nbformat": 3,
 "nbformat_minor": 0,
 "worksheets": [
  {
   "cells": [
    {
     "cell_type": "heading",
     "level": 1,
     "metadata": {},
     "source": [
      "Intervalos multi-dimensionales "
     ]
    },
    {
     "cell_type": "code",
     "collapsed": false,
     "input": [
      "using intervalos"
     ],
     "language": "python",
     "metadata": {},
     "outputs": [],
     "prompt_number": 1
    },
    {
     "cell_type": "markdown",
     "metadata": {},
     "source": [
      "Para resolver problemas en m\u00e1s que una dimensi\u00f3n, ser\u00e1 necesario poder calcular un *enclosure* (\"encierro\") de la imagen de una funci\u00f3n sobre un conjunto en varias dimensiones.\n",
      "Para ello, podemos definir **intervalos multi-dimensionales**, de manera an\u00e1loga a los intervalos uni-dimensionales que ya conocemos."
     ]
    },
    {
     "cell_type": "markdown",
     "metadata": {},
     "source": [
      "[1] \u00bfCu\u00e1l ser\u00eda una definici\u00f3n matem\u00e1tica razonable de un intervalo multi-dimensional?"
     ]
    },
    {
     "cell_type": "markdown",
     "metadata": {},
     "source": [
      "Como un vector cuyas entradas son intervalos."
     ]
    },
    {
     "cell_type": "markdown",
     "metadata": {},
     "source": [
      "[2] \u00bfC\u00f3mo podr\u00edamos expresar esto en Julia? Da dos posibilidades.\n",
      "\n",
      "[Pista: Checa `typealias`]"
     ]
    },
    {
     "cell_type": "markdown",
     "metadata": {},
     "source": [
      "Simplemente como un tipo de la forma "
     ]
    },
    {
     "cell_type": "code",
     "collapsed": false,
     "input": [
      "type IntervaloN\n",
      "    a::Intervalo[]\n",
      "end"
     ],
     "language": "python",
     "metadata": {},
     "outputs": []
    },
    {
     "cell_type": "markdown",
     "metadata": {},
     "source": [
      "y definir las operaciones necesarias, pero creo que no vale la pena hacerlo, porque, aunque no entend\u00ed bien lo del typealias, no necesito volver a definir otro tipo, sino usar los mismo que tengos, y meterle  a las funciones en vez de las variables x,y,etc, los intervalos en que varian"
     ]
    },
    {
     "cell_type": "code",
     "collapsed": false,
     "input": [
      "typealias IntervaloN{Intervalo} Array{Intervalo,1}"
     ],
     "language": "python",
     "metadata": {},
     "outputs": [
      {
       "metadata": {},
       "output_type": "pyout",
       "prompt_number": 4,
       "text": [
        "Array{Intervalo,1}"
       ]
      }
     ],
     "prompt_number": 4
    },
    {
     "cell_type": "markdown",
     "metadata": {},
     "source": [
      "\n",
      "[3] \u00bfCu\u00e1les operaciones matem\u00e1ticas necesitaremos definir sobre los intervalos multi-dimensionales? Implem\u00e9ntalos en un m\u00f3dulo. \u00bfCu\u00e1l de las dos definiciones resulta m\u00e1s \u00fatil en ese respecto?"
     ]
    },
    {
     "cell_type": "markdown",
     "metadata": {},
     "source": [
      "Yo s\u00f3lo defin\u00ed el cero, y deje las operaciones que ten\u00eda"
     ]
    },
    {
     "cell_type": "markdown",
     "metadata": {},
     "source": [
      "[4] Considera la funci\u00f3n $f: \\mathbb{R}^2 \\to \\mathbb{R}^2$, dada por $f(x,y) = \\mathsf{M} \\cdot \\mathbf{x}$, con $\\mathsf{M} = \\begin{pmatrix} 2 & 1 \\\\ 1 & 1 \\end{pmatrix}$.\n",
      "\n",
      "(i) Encuentra a mano la imagen del cuadrado unitario. Encuentra el intervalo multi-dimensional m\u00e1s peque\u00f1o que contiene este conjunto.\n",
      "\n",
      "(ii) Verifica el resultado con tu c\u00f3digo.\n",
      "\n",
      "(iii) \u00bfCu\u00e1l es el problema que ocurre? \u00bfC\u00f3mo lo podr\u00edamos resolver? Implem\u00e9ntalo."
     ]
    },
    {
     "cell_type": "markdown",
     "metadata": {},
     "source": [
      "A mano, lo mando a un rombo con vertices en (0,0), (2,1), (1,1), (3,2)."
     ]
    },
    {
     "cell_type": "code",
     "collapsed": false,
     "input": [
      "M=[2 1 ; 1 1]\n",
      "f(x,y)=M*[x,y]"
     ],
     "language": "python",
     "metadata": {},
     "outputs": [
      {
       "metadata": {},
       "output_type": "pyout",
       "prompt_number": 6,
       "text": [
        "f (generic function with 1 method)"
       ]
      }
     ],
     "prompt_number": 6
    },
    {
     "cell_type": "code",
     "collapsed": false,
     "input": [
      "f(Intervalo(0,1), Intervalo(0,1))"
     ],
     "language": "python",
     "metadata": {},
     "outputs": [
      {
       "metadata": {},
       "output_type": "pyout",
       "prompt_number": 7,
       "text": [
        "2-element Array{Any,1}:\n",
        " Intervalo(0e+00 with 256 bits of precision,3e+00 with 256 bits of precision)\n",
        " Intervalo(0e+00 with 256 bits of precision,2e+00 with 256 bits of precision)"
       ]
      }
     ],
     "prompt_number": 7
    },
    {
     "cell_type": "markdown",
     "metadata": {},
     "source": [
      "Es decir, el rectangulo $[0,3] \\times [0,2]$. Lo cual tiene mucho error, lo que hay que hacer es segmentar el cuadro unitario y aplicar la funci\u00f3n sobre cuadritos tales que est\u00e9n en la imagen del rombo que me sali\u00f3 a mano."
     ]
    },
    {
     "cell_type": "markdown",
     "metadata": {},
     "source": [
      "[5] Haz lo mismo para la imagen del cuadrado unitario bajo la funci\u00f3n \n",
      "\n",
      "$$ \\begin{pmatrix} x \\\\ y \\end{pmatrix} \\mapsto \n",
      "\\begin{pmatrix} 1 - ax^2 + y \\\\ b x \\end{pmatrix},$$\n",
      "\n",
      "con $a = 1.4$ y $b=0.3$ (el famoso \"mapeo de H\u00e9non\")."
     ]
    },
    {
     "cell_type": "code",
     "collapsed": false,
     "input": [
      "g(x,y)=[1-1.4x^2+y, 0.3x]"
     ],
     "language": "python",
     "metadata": {},
     "outputs": [
      {
       "metadata": {},
       "output_type": "pyout",
       "prompt_number": 8,
       "text": [
        "g (generic function with 1 method)"
       ]
      }
     ],
     "prompt_number": 8
    },
    {
     "cell_type": "code",
     "collapsed": false,
     "input": [
      "g(Intervalo(0,1), Intervalo(0,1))"
     ],
     "language": "python",
     "metadata": {},
     "outputs": [
      {
       "metadata": {},
       "output_type": "pyout",
       "prompt_number": 9,
       "text": [
        "2-element Array{Intervalo,1}:\n",
        " Intervalo(-4.000000000000000000000000000000000000000000000000000000000000000000000000000354e-01 with 256 bits of precision,2e+00 with 256 bits of precision)\n",
        " Intervalo(0e+00 with 256 bits of precision,3.000000000000000000000000000000000000000000000000000000000000000000000000000017e-01 with 256 bits of precision) "
       ]
      }
     ],
     "prompt_number": 9
    },
    {
     "cell_type": "code",
     "collapsed": false,
     "input": [],
     "language": "python",
     "metadata": {},
     "outputs": []
    }
   ],
   "metadata": {}
  }
 ]
}