{
 "metadata": {
  "language": "Julia",
  "name": "",
  "signature": "sha256:97cac81311ab694ce98ffcd3fd6d503adb3c51ff7c1f4bd0e23ceb95f80cf8d1"
 },
 "nbformat": 3,
 "nbformat_minor": 0,
 "worksheets": [
  {
   "cells": [
    {
     "cell_type": "code",
     "collapsed": false,
     "input": [],
     "language": "python",
     "metadata": {},
     "outputs": [],
     "prompt_number": 3
    },
    {
     "cell_type": "code",
     "collapsed": false,
     "input": [
      "using intervalos"
     ],
     "language": "python",
     "metadata": {},
     "outputs": [],
     "prompt_number": 4
    },
    {
     "cell_type": "code",
     "collapsed": false,
     "input": [
      "using diferenciacion_automatica"
     ],
     "language": "python",
     "metadata": {},
     "outputs": [],
     "prompt_number": 6
    },
    {
     "cell_type": "markdown",
     "metadata": {},
     "source": [
      "[1]. Escribe una funci\u00f3n que calcule el operador de Newton para un intervalo $X$, dadas $f(x)$ y $f\u2032(x)$."
     ]
    },
    {
     "cell_type": "code",
     "collapsed": false,
     "input": [
      "function Newton(f::Function, I::Intervalo)\n",
      "       X=EvaluarDerivar(I,1)\n",
      "    if (0 in f(EvaluarDerivar(I,1)).der)\n",
      "        return \"No se puede aplicar el m\u00e9todo, 0 en fprima(Intervalo)\"\n",
      "    end\n",
      "    k=0\n",
      "       for i in 1:20\n",
      "        k+=1\n",
      "           xmid=mid(X.ev)\n",
      "        NX=xmid-f(Intervalo(xmid,xmid))/(f(X).der)\n",
      "           Xk=NX \u2229 X.ev\n",
      "        Xk = Xk == false ? break : Xk=Xk\n",
      "           X=EvaluarDerivar(Xk,1)\n",
      "       end\n",
      "    k = k != 20 ? Intervalo() : X.ev\n",
      "end"
     ],
     "language": "python",
     "metadata": {},
     "outputs": [
      {
       "metadata": {},
       "output_type": "pyout",
       "prompt_number": 7,
       "text": [
        "Newton (generic function with 1 method)"
       ]
      }
     ],
     "prompt_number": 7
    },
    {
     "cell_type": "code",
     "collapsed": false,
     "input": [
      "g(x)=x^3-1\n",
      "x0=Intervalo(.5,3)\n",
      "Newton(g,x0)"
     ],
     "language": "python",
     "metadata": {},
     "outputs": [
      {
       "metadata": {},
       "output_type": "pyout",
       "prompt_number": 8,
       "text": [
        "Intervalo(1e+00 with 256 bits of precision,1e+00 with 256 bits of precision)"
       ]
      }
     ],
     "prompt_number": 8
    },
    {
     "cell_type": "markdown",
     "metadata": {},
     "source": [
      "[2] Implementa el m\u00e9todo de Newton para intervalos para encontrar las ra\u00edces de $f(x)=x^3\u22121$ a partir de $X=[\u22123,3]$. Muestra gr\u00e1ficamente la implementaci\u00f3n del m\u00e9todo. En cada iteraci\u00f3n subsecuente del m\u00e9todo, ilustra qu\u00e9 le pasa al di\u00e1metro de la refincaci\u00f3n del intervalo que vas obteniendo."
     ]
    },
    {
     "cell_type": "code",
     "collapsed": false,
     "input": [
      "function Newton2(f::Function, I::Intervalo)\n",
      "    I= mid(I)==0 ? I=Intervalo(I.inf,I.sup+0.125) : I=I\n",
      "    I1=Intervalo[]\n",
      "    push!(I1,I)\n",
      "    Raices=Intervalo[]\n",
      "    for i in 1:10\n",
      "        if (length(I1)< i)\n",
      "            break\n",
      "        end\n",
      "        if (0 in f(EvaluarDerivar(I1[i],1)).der)\n",
      "            seg=segmentar(I1[i],2)\n",
      "            for j in 1:2\n",
      "                if (0 in f(EvaluarDerivar(seg[j], 1)).der)\n",
      "                    push!(I1,seg[j])\n",
      "                else\n",
      "                    Newton(f,seg[j]) == false ? continue : push!(Raices,Newton(f,seg[j]))\n",
      "                end\n",
      "            end\n",
      "        end\n",
      "    end\n",
      "    Raices = length(Raices) == 0 ? Intervalo() : Raices\n",
      "end"
     ],
     "language": "python",
     "metadata": {},
     "outputs": [
      {
       "metadata": {},
       "output_type": "pyout",
       "prompt_number": 9,
       "text": [
        "Newton2 (generic function with 1 method)"
       ]
      }
     ],
     "prompt_number": 9
    },
    {
     "cell_type": "code",
     "collapsed": false,
     "input": [
      "f(x)=x^3-1\n",
      "I1=Intervalo(-3,3)\n",
      "Newton2(f,I1)"
     ],
     "language": "python",
     "metadata": {},
     "outputs": [
      {
       "metadata": {},
       "output_type": "pyout",
       "prompt_number": 10,
       "text": [
        "1-element Array{Intervalo,1}:\n",
        " Intervalo(1e+00 with 256 bits of precision,1e+00 with 256 bits of precision)"
       ]
      }
     ],
     "prompt_number": 10
    },
    {
     "cell_type": "code",
     "collapsed": false,
     "input": [
      "g(x)=x^3+1\n",
      "I1=Intervalo(-3,3)\n",
      "Newton2(g,I1)"
     ],
     "language": "python",
     "metadata": {},
     "outputs": [
      {
       "metadata": {},
       "output_type": "pyout",
       "prompt_number": 11,
       "text": [
        "false"
       ]
      }
     ],
     "prompt_number": 11
    },
    {
     "cell_type": "markdown",
     "metadata": {},
     "source": [
      "False quiere decir intervalo vac\u00edo. As\u00ed lo defin\u00ed."
     ]
    },
    {
     "cell_type": "markdown",
     "metadata": {},
     "source": [
      "[3] Usando tu implementaci\u00f3n, demuestra que en el mismo intervalo $X=[\u22123,3]$ que $g(x)=x^2+1$ no tiene ninguna ra\u00edz. Ilustra gr\u00e1ficamente esto."
     ]
    },
    {
     "cell_type": "code",
     "collapsed": false,
     "input": [
      "g(x)=x^2+1\n",
      "I1=Intervalo(-3,3)\n",
      "Newton2(g,I1)"
     ],
     "language": "python",
     "metadata": {},
     "outputs": [
      {
       "metadata": {},
       "output_type": "pyout",
       "prompt_number": 12,
       "text": [
        "false"
       ]
      }
     ],
     "prompt_number": 12
    },
    {
     "cell_type": "markdown",
     "metadata": {},
     "source": [
      "[4] Considera la familia de polinomios de Wilkinson definidos por $W_n(x)=\u220f^n_{i=1}(x\u2212i)$. Partiendo de un intervalo sim\u00e9trico alrededor de cero, implementa el m\u00e9todo de Newton para encontrar sus ra\u00edces, utilizando diferenciaci\u00f3n autom\u00e1tica."
     ]
    },
    {
     "cell_type": "markdown",
     "metadata": {},
     "source": [
      "No supe como hacer una funci\u00f3n cuyo argumento sea un entero, y me devuelva el polinomio n de Wilkinson, as\u00ed que lo voy a escribir a mano."
     ]
    },
    {
     "cell_type": "markdown",
     "metadata": {},
     "source": [
      "Adem\u00e1s, como en la funci\u00f3n Newton2, hago un ciclo de 10, es decir, divido al intervalo inicial hasta en 10 veces, cuando el polinomio de Wilkinson es grande, dividir 10 veces no es necesario para encontrar todas la raices, as\u00ed que definir\u00e9 la funci\u00f3n Newton2 de manera que pueda cambiarle el numero de iteraciones que puede hacer."
     ]
    },
    {
     "cell_type": "code",
     "collapsed": false,
     "input": [
      "function Newton2(f::Function, I::Intervalo, n::Int)\n",
      "    I= mid(I)==0 ? I=Intervalo(I.inf,I.sup+0.125) : I=I\n",
      "    I1=Intervalo[]\n",
      "    push!(I1,I)\n",
      "    Raices=Intervalo[]\n",
      "    for i in 1:n\n",
      "        if (length(I1)< i)\n",
      "            break\n",
      "        end\n",
      "        if (0 in f(EvaluarDerivar(I1[i],1)).der)\n",
      "            seg=segmentar(I1[i],2)\n",
      "            for j in 1:2\n",
      "                if (0 in f(EvaluarDerivar(seg[j], 1)).der)\n",
      "                    push!(I1,seg[j])\n",
      "                else\n",
      "                    Newton(f,seg[j]) == false ? continue : push!(Raices,Newton(f,seg[j]))\n",
      "                end\n",
      "            end\n",
      "        end\n",
      "    end\n",
      "    Raices = length(Raices) == 0 ? Intervalo() : Raices\n",
      "end"
     ],
     "language": "python",
     "metadata": {},
     "outputs": [
      {
       "metadata": {},
       "output_type": "pyout",
       "prompt_number": 13,
       "text": [
        "Newton2 (generic function with 2 methods)"
       ]
      }
     ],
     "prompt_number": 13
    },
    {
     "cell_type": "markdown",
     "metadata": {},
     "source": [
      "Entonces, para el polinomio W2"
     ]
    },
    {
     "cell_type": "code",
     "collapsed": false,
     "input": [
      "W2(x)=(x-1)*(x-2)\n",
      "I2=Intervalo(-3,3)\n",
      "Newton2(W2,I2)"
     ],
     "language": "python",
     "metadata": {},
     "outputs": [
      {
       "metadata": {},
       "output_type": "pyout",
       "prompt_number": 15,
       "text": [
        "2-element Array{Intervalo,1}:\n",
        " Intervalo(2e+00 with 256 bits of precision,2e+00 with 256 bits of precision)\n",
        " Intervalo(1e+00 with 256 bits of precision,1e+00 with 256 bits of precision)"
       ]
      }
     ],
     "prompt_number": 15
    },
    {
     "cell_type": "markdown",
     "metadata": {},
     "source": [
      "Para el W6"
     ]
    },
    {
     "cell_type": "code",
     "collapsed": false,
     "input": [
      "W6(x)=(x-1)*(x-2)*(x-3)*(x-4)*(x-5)*(x-6)\n",
      "I6=Intervalo(-7,7)\n",
      "Newton2(W6,I6,30)"
     ],
     "language": "python",
     "metadata": {},
     "outputs": [
      {
       "metadata": {},
       "output_type": "pyout",
       "prompt_number": 16,
       "text": [
        "6-element Array{Intervalo,1}:\n",
        " Intervalo(1e+00 with 256 bits of precision,1e+00 with 256 bits of precision)\n",
        " Intervalo(2e+00 with 256 bits of precision,2e+00 with 256 bits of precision)\n",
        " Intervalo(3e+00 with 256 bits of precision,3e+00 with 256 bits of precision)\n",
        " Intervalo(4e+00 with 256 bits of precision,4e+00 with 256 bits of precision)\n",
        " Intervalo(5e+00 with 256 bits of precision,5e+00 with 256 bits of precision)\n",
        " Intervalo(6e+00 with 256 bits of precision,6e+00 with 256 bits of precision)"
       ]
      }
     ],
     "prompt_number": 16
    },
    {
     "cell_type": "markdown",
     "metadata": {},
     "source": [
      "Para el W15"
     ]
    },
    {
     "cell_type": "code",
     "collapsed": false,
     "input": [
      "W15(x)=(x-1)*(x-2)*(x-3)*(x-4)*(x-5)*(x-6)*(x-7)*(x-8)*(x-9)*(x-10)*(x-11)*(x-12)*(x-13)*(x-14)*(x-15)\n",
      "I15=Intervalo(-20,20)\n",
      "Newton2(W15,I15,200)"
     ],
     "language": "python",
     "metadata": {},
     "outputs": [
      {
       "metadata": {},
       "output_type": "pyout",
       "prompt_number": 21,
       "text": [
        "15-element Array{Intervalo,1}:\n",
        " Intervalo(1e+00 with 256 bits of precision,1e+00 with 256 bits of precision)    \n",
        " Intervalo(2e+00 with 256 bits of precision,2e+00 with 256 bits of precision)    \n",
        " Intervalo(3e+00 with 256 bits of precision,3e+00 with 256 bits of precision)    \n",
        " Intervalo(4e+00 with 256 bits of precision,4e+00 with 256 bits of precision)    \n",
        " Intervalo(5e+00 with 256 bits of precision,5e+00 with 256 bits of precision)    \n",
        " Intervalo(6e+00 with 256 bits of precision,6e+00 with 256 bits of precision)    \n",
        " Intervalo(7e+00 with 256 bits of precision,7e+00 with 256 bits of precision)    \n",
        " Intervalo(8e+00 with 256 bits of precision,8e+00 with 256 bits of precision)    \n",
        " Intervalo(9e+00 with 256 bits of precision,9e+00 with 256 bits of precision)    \n",
        " Intervalo(1e+01 with 256 bits of precision,1e+01 with 256 bits of precision)    \n",
        " Intervalo(1.1e+01 with 256 bits of precision,1.1e+01 with 256 bits of precision)\n",
        " Intervalo(1.2e+01 with 256 bits of precision,1.2e+01 with 256 bits of precision)\n",
        " Intervalo(1.3e+01 with 256 bits of precision,1.3e+01 with 256 bits of precision)\n",
        " Intervalo(1.4e+01 with 256 bits of precision,1.4e+01 with 256 bits of precision)\n",
        " Intervalo(1.5e+01 with 256 bits of precision,1.5e+01 with 256 bits of precision)"
       ]
      }
     ],
     "prompt_number": 21
    },
    {
     "cell_type": "markdown",
     "metadata": {},
     "source": [
      "Y para el W20"
     ]
    },
    {
     "cell_type": "code",
     "collapsed": false,
     "input": [
      "W20(x)=(x-1)*(x-2)*(x-3)*(x-4)*(x-5)*(x-6)*(x-7)*(x-8)*(x-9)*(x-10)*(x-11)*(x-12)*(x-13)*(x-14)*(x-15)*(x-16)*(x-17)*(x-18)*(x-19)*(x-20)\n",
      "I20=Intervalo(-30,30)\n",
      "Newton2(W20,I20,500)"
     ],
     "language": "python",
     "metadata": {},
     "outputs": [
      {
       "metadata": {},
       "output_type": "pyout",
       "prompt_number": 23,
       "text": [
        "20-element Array{Intervalo,1}:\n",
        " Intervalo(1e+00 with 256 bits of precision,1e+00 with 256 bits of precision)    \n",
        " Intervalo(4e+00 with 256 bits of precision,4e+00 with 256 bits of precision)    \n",
        " Intervalo(2e+00 with 256 bits of precision,2e+00 with 256 bits of precision)    \n",
        " Intervalo(3e+00 with 256 bits of precision,3e+00 with 256 bits of precision)    \n",
        " Intervalo(5e+00 with 256 bits of precision,5e+00 with 256 bits of precision)    \n",
        " Intervalo(6e+00 with 256 bits of precision,6e+00 with 256 bits of precision)    \n",
        " Intervalo(7e+00 with 256 bits of precision,7e+00 with 256 bits of precision)    \n",
        " Intervalo(8e+00 with 256 bits of precision,8e+00 with 256 bits of precision)    \n",
        " Intervalo(9e+00 with 256 bits of precision,9e+00 with 256 bits of precision)    \n",
        " Intervalo(1e+01 with 256 bits of precision,1e+01 with 256 bits of precision)    \n",
        " Intervalo(1.1e+01 with 256 bits of precision,1.1e+01 with 256 bits of precision)\n",
        " Intervalo(1.2e+01 with 256 bits of precision,1.2e+01 with 256 bits of precision)\n",
        " Intervalo(1.3e+01 with 256 bits of precision,1.3e+01 with 256 bits of precision)\n",
        " Intervalo(1.4e+01 with 256 bits of precision,1.4e+01 with 256 bits of precision)\n",
        " Intervalo(1.5e+01 with 256 bits of precision,1.5e+01 with 256 bits of precision)\n",
        " Intervalo(1.6e+01 with 256 bits of precision,1.6e+01 with 256 bits of precision)\n",
        " Intervalo(1.7e+01 with 256 bits of precision,1.7e+01 with 256 bits of precision)\n",
        " Intervalo(1.8e+01 with 256 bits of precision,1.8e+01 with 256 bits of precision)\n",
        " Intervalo(1.9e+01 with 256 bits of precision,1.9e+01 with 256 bits of precision)\n",
        " Intervalo(2e+01 with 256 bits of precision,2e+01 with 256 bits of precision)    "
       ]
      }
     ],
     "prompt_number": 23
    },
    {
     "cell_type": "markdown",
     "metadata": {},
     "source": [
      "Hasta ahora, s\u00f3lo hemos podido tratar el caso en el cual la derivada $F\u2032(X)$ no contiene 0. Sin embargo, resulta que es posible tratar tambi\u00e9n este caso, mediante \"divisi\u00f3n extendida\".\n",
      "\n",
      "[5] Sup\u00f3n que $F\u2032(X)$ sea un intervalo, digamos $F\u2032(X)=[\u2212a,b]$, que contiene 0 (con a,b>0).\n",
      "\n",
      "(i) Definiendo $1/A$ como el conjunto ${1/x:x\u2208A}$, eval\u00faa $1/F\u2032(X)$.\n",
      "\n",
      "(ii) Define una funci\u00f3n que implementa esta \"divisi\u00f3n extendida\" de intervalos (o, m\u00e1s bien, inversa extendida)."
     ]
    },
    {
     "cell_type": "markdown",
     "metadata": {},
     "source": [
      "Yo ya hab\u00eda definido la divisi\u00f3n extendida, as\u00ed que nada m\u00e1s lo voy a aplicar"
     ]
    },
    {
     "cell_type": "markdown",
     "metadata": {},
     "source": [
      "[6] Resulta que el m\u00e9todo de Newton sigue funcionando si utilizamos esta divisi\u00f3n extendida cu\u00e1ndo sea apropiado. Implem\u00e9ntalo para encontrar todas las ra\u00edces de una funci\u00f3n en un intervalo dado."
     ]
    },
    {
     "cell_type": "markdown",
     "metadata": {},
     "source": [
      "Como defin\u00ed la funci\u00f3n Newton de tal manera que me enviara mensaje de error si la derivada de la funci\u00f3n tenia ceros en el intervalo, voy a definir una nueva funci\u00f3n Newton de tal forma que no se fije si hay ceros de la derivada en el intervalo. Esta funci\u00f3n Newton ser\u00e1 m\u00e1s sencilla."
     ]
    },
    {
     "cell_type": "code",
     "collapsed": false,
     "input": [
      "function Newton3(f::Function, I::Intervalo)\n",
      "    for i in 1:20\n",
      "        xmid = mid(I)\n",
      "        Nx=xmid-f(xmid)/f(EvaluarDerivar(I,1)).der\n",
      "        Xk=Nx \u2229 I\n",
      "        I=Xk\n",
      "    end\n",
      "    I\n",
      "end"
     ],
     "language": "python",
     "metadata": {},
     "outputs": [
      {
       "metadata": {},
       "output_type": "pyout",
       "prompt_number": 24,
       "text": [
        "Newton3 (generic function with 1 method)"
       ]
      }
     ],
     "prompt_number": 24
    },
    {
     "cell_type": "code",
     "collapsed": false,
     "input": [
      "f(x)=x^2-2\n",
      "I=Intervalo(0.5,3)\n",
      "Newton3(f,I)"
     ],
     "language": "python",
     "metadata": {},
     "outputs": [
      {
       "metadata": {},
       "output_type": "pyout",
       "prompt_number": 25,
       "text": [
        "Intervalo(1.414213562373095048801688724209698078569671875376948073176679737990732478462102e+00 with 256 bits of precision,1.414213562373095048801688724209698078569671875376948073176679737990732478462119e+00 with 256 bits of precision)"
       ]
      }
     ],
     "prompt_number": 25
    },
    {
     "cell_type": "code",
     "collapsed": false,
     "input": [
      "f(x)=x^3-1\n",
      "I=Intervalo(-3,3)\n",
      "Newton3(f,I)"
     ],
     "language": "python",
     "metadata": {},
     "outputs": [
      {
       "metadata": {},
       "output_type": "pyout",
       "prompt_number": 26,
       "text": [
        "Intervalo(9.999999999999999999999999999999999999999999999999999999999999999999999999999914e-01 with 256 bits of precision,1.000000000000000000000000000000000000000000000000000000000000000000000000000069e+00 with 256 bits of precision)"
       ]
      }
     ],
     "prompt_number": 26
    },
    {
     "cell_type": "code",
     "collapsed": false,
     "input": [
      "0 in f(EvaluarDerivar(I,1)).der"
     ],
     "language": "python",
     "metadata": {},
     "outputs": [
      {
       "metadata": {},
       "output_type": "pyout",
       "prompt_number": 27,
       "text": [
        "true"
       ]
      }
     ],
     "prompt_number": 27
    },
    {
     "cell_type": "code",
     "collapsed": false,
     "input": [
      "Newton(f,I)"
     ],
     "language": "python",
     "metadata": {},
     "outputs": [
      {
       "metadata": {},
       "output_type": "pyout",
       "prompt_number": 28,
       "text": [
        "\"No se puede aplicar el m\u00e9todo, 0 en fprima(Intervalo)\""
       ]
      }
     ],
     "prompt_number": 28
    },
    {
     "cell_type": "code",
     "collapsed": false,
     "input": [],
     "language": "python",
     "metadata": {},
     "outputs": []
    }
   ],
   "metadata": {}
  }
 ]
}